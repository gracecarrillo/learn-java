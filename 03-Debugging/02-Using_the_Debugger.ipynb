{
 "cells": [
  {
   "cell_type": "markdown",
   "metadata": {},
   "source": [
    "# Debugging with debugging tools\r\n",
    "\r\n",
    "\r\n",
    "Adding print statements for debugging and removing them later on can get a little annoying, but there is another way that we can debug our programs. \r\n",
    "\r\n",
    "At the beginning of the workshop, we installed an IDE to compile and run our Java programs, but there is another benefit to using an IDE. An IDE comes built in with some debugging tools that we can use to find and solve errors in our programs.\r\n",
    "\r\n",
    "We solved one already, when our variable name was misspelled and a message popped up, saying the symbol cannot be found. Now it's time to dig a little deeper. Another tool that an IDE gives is a breakpoint. \r\n",
    "\r\n",
    "## Breakpoints\r\n",
    "\r\n",
    "A breakpoint is an intentional stopping point put into a program for debugging purposes. This allows to temporarily halt a program in it's execution in order to inspect the program's internal state. The parts of a program's internal state, include the values of variables, the result of certain lines of code, and whether or not the program reaches a certain line of code in it's execution. Instead of using print statements to reveal the program's internal state, we can pause the program during it's execution and inspect it's state as it executes. Let's see how this works. \r\n",
    "\r\n",
    "Here we have the multiple choice program code, but the value of correct answer is `choiceThree`. It has the value `saturn` instead of `jupiter`, so there is a logical error in this code. Let's add a breakpoint on the line of our if statement. We can add a breakpoint on a specific line by clicking the space, just after the line number. With this breakpoint, our program will pause it's execution, just before this line. In order for these breakpoints to work, we need to run our program in debug mode, to run in debug mode, instead of clicking the play button, we'll click Debug. In Eclipse, this would be the bug in the right hand corner. In VS Code, there's a Play button with a bug in the left bar."
   ]
  },
  {
   "cell_type": "code",
   "execution_count": null,
   "metadata": {},
   "outputs": [],
   "source": [
    "import java.util.Scanner;\r\n",
    "\r\n",
    "public class DebuggingDebugger {\r\n",
    "\r\n",
    "    public static void main(String args[]) {\r\n",
    "        String question = \"What is the largest planet in our solar system?\";\r\n",
    "        String choiceOne = \"earth\";\r\n",
    "        String choiceTwo = \"jupiter\";\r\n",
    "        String choiceThree = \"saturn\";\r\n",
    "\r\n",
    "        String correctAnswer = choiceThree;\r\n",
    "\r\n",
    "        // Write a print statement asking the question\r\n",
    "        System.out.println(question);\r\n",
    "\r\n",
    "        // Write a print statement giving the answer choices\r\n",
    "        System.out.println(\"Choose one of the following: \" +\r\n",
    "                choiceOne + \", \" + choiceTwo + \", or \" + choiceThree + \".\");\r\n",
    "\r\n",
    "        // Have the user input an answer\r\n",
    "        Scanner scanner = new Scanner(System.in);\r\n",
    "        // Retrieve the user's input\r\n",
    "        String input = scanner.next();\r\n",
    "\r\n",
    "        if(correctAnswer.equals(input.toLowerCase())) {\r\n",
    "            System.out.println(\"Congrats! That's the correct answer\");\r\n",
    "        } else {\r\n",
    "            System.out.println(\"You are incorrect. The correct answer is \" + correctAnswer);\r\n",
    "        }\r\n",
    "    }\r\n",
    "\r\n",
    "}"
   ]
  },
  {
   "cell_type": "markdown",
   "metadata": {},
   "source": [
    "Let's choose a planet, let's say Earth, and now our program has stopped it's execution. It stopped just before the if statement line and we get a window at the bottom of our screen, that has various details about our program's internal state. It has our variables, questions, choice one, choice two, choice three, as well as their respective values. \r\n",
    "\r\n",
    "This is how we could detect that correct answer has the wrong value. Here it's Saturn. The variables shown here are also the variables that are in scope. Remember a variable scope refers to where we can access and use the variable in our program. \r\n",
    "\r\n",
    "Now that we've inspected the program's internal state, what if we want the program to continue it's execution? In the debugger window, we have a few buttons that can help us. The play button will resume the program, and it will only stop again if it runs into another breakpoint. If we just want to run the next line of code, we can click the step over button. In fact, we can continue to click the step over button to run each line of code individually, until the program has finished. If we find an error and want to fix it, we can always stop the program's execution with the stop button at the top, or the stop button in the debugger. \r\n",
    "\r\n",
    "There are other buttons here that are useful for debugging, but they are out of the scope of this introductory workshop. Ultimately, the debugger is useful because we can just add a breakpoint and run into bug mode to inspect the program's internal state, instead of adding a bunch of print statements. \r\n",
    "\r\n",
    "Let's stop this program and now you'll get the chance to debug a program all on your own. Using the tools we covered in this chapter. Good Luck!"
   ]
  }
 ],
 "metadata": {
  "kernelspec": {
   "display_name": "Java",
   "language": "java",
   "name": "java"
  },
  "language_info": {
   "name": "java",
   "version": ""
  },
  "orig_nbformat": 2
 },
 "nbformat": 4,
 "nbformat_minor": 2
}