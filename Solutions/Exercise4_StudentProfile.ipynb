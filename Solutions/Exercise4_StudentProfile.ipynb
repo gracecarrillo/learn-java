{
 "cells": [
  {
   "cell_type": "markdown",
   "metadata": {},
   "source": [
    "# Sample solution: Student profile\r\n",
    "\r\n",
    "\r\n",
    "Let's represent a student's profile in Java using a class. We'll create a new Java file and call it, `StudentProfile.java`. In this class, we'll add our attributes. Each attribute or instance variable will have a data type. So we'll start with `firstName`, which will be `string`. Same wiht `lastName` and `declaredMajor`. Then `averageScore` will be a `double`. And `expectedYeartoGraduate` will be an `int`. \r\n",
    "\r\n",
    "Next, we'll add our behaviour or instance methods. \r\n",
    "\r\n",
    "The exercise said to add a function that increments the `expectedYeartoGraduate` instance variable. So we'll write `public` and then the name of the function, `incrementExpectedGraduationYear()`. It will take no parameters. And for the return type, we could have it return the new `expectedYeartoGraduate` value or return nothing, returning `void`. \r\n",
    "\r\n",
    "In this case, we'll say `void`. In the implementation, we'll be setting the value of the instance variable `expectedYeartoGraduate`. To access this instance variable, we can use the keyword `this` with the dot `.` operator. \r\n",
    "\r\n",
    "For the assignment, we want to access the current value of `expectedYeartoGraduate` and add one. We can do this by writing this dot `expectedYeartoGraduate` and then plus one. And that's our implementation. \r\n",
    "\r\n",
    "Moving on to the constructor, we'll write `public`, the name of the class, student profile and in the parenthesis we'll add our parameters. Each of these parameters should map back to an attribute. So we'll have one for `firstName`, `lastName` with the parameters in order, we can set each attribute to the value that they're corresponding parameter is holding. To access the attribute, we use the `this` keyword. Starting with `firstName`, we'd write this dot `firstName`. \r\n",
    "\r\n",
    "Then, we'll assign that the value of the parameter `firstName`. Next, we'll do the same for `lastName`."
   ]
  },
  {
   "cell_type": "code",
   "execution_count": null,
   "metadata": {},
   "outputs": [],
   "source": [
    "\r\n",
    "// Student Profile Class\r\n",
    "\r\n",
    "public class StudentProfile {\r\n",
    "    String firstName;\r\n",
    "    String lastName;\r\n",
    "    String declaredMajor;\r\n",
    "    double averageScore;\r\n",
    "    int expectedYeartoGraduate;\r\n",
    "\r\n",
    "    // constructor \r\n",
    "    public StudentProfile(String firstName, String lastName, String declaredMajor, double averageScore, int expectedYeartoGraduate){\r\n",
    "        this.firstName = firstName;\r\n",
    "        this.lastName = lastName;\r\n",
    "        this.declaredMajor = declaredMajor;\r\n",
    "        this.averageScore = averageScore;\r\n",
    "        this.expectedYeartoGraduate = expectedYeartoGraduate;\r\n",
    "\r\n",
    "        }\r\n",
    "    public void incrementExpectedGraduationYear(){\r\n",
    "        this.expectedYeartoGraduate = this.expectedYeartoGraduate + 1;\r\n",
    "\r\n",
    "    }\r\n",
    "\r\n",
    "}"
   ]
  },
  {
   "cell_type": "markdown",
   "metadata": {},
   "source": [
    " And that's our constructor. Our student profile class is finished. \r\n",
    " \r\n",
    " Now, we'll go to our main class and create two student profile instances. With the two profiles created, we'll call the `incrementExpectedGraduationYear();` function on profile two. Then, we'll print out the value of profile two's expected year to graduate instance variable. \r\n",
    " \r\n",
    " Let's run the program and see what happens. \r\n",
    " \r\n",
    " Profile two started out with a graduation year of 2021, we called `incrementExpectedGraduationYear();` on profile two. When we printed out profile two's expected year to graduate instance variable to the consul, we get `2022`. \r\n",
    " This is exactly what we expect. "
   ]
  },
  {
   "cell_type": "code",
   "execution_count": null,
   "metadata": {},
   "outputs": [],
   "source": [
    "public class Main {\r\n",
    "\r\n",
    "    public static void main(String[] args) {\r\n",
    "        StudentProfile profileOne = new StudentProfile(\"Grace\", \"Carrillo\", \"Engineering\", 85.5, 2022);\r\n",
    "        StudentProfile profileTwo = new StudentProfile(\"Molly\", \"Huq\", \"Biomedical Sciences\", 100, 2021);\r\n",
    "\r\n",
    "        profileTwo.incrementExpectedGraduationYear();\r\n",
    "        System.out.println(profileTwo.expectedYeartoGraduate);\r\n",
    "    }\r\n",
    "\r\n",
    "}"
   ]
  }
 ],
 "metadata": {
  "kernelspec": {
   "display_name": "Java",
   "language": "java",
   "name": "java"
  },
  "language_info": {
   "name": "java",
   "version": ""
  },
  "orig_nbformat": 2
 },
 "nbformat": 4,
 "nbformat_minor": 2
}