{
 "cells": [
  {
   "cell_type": "markdown",
   "metadata": {},
   "source": [
    "# Sample solution: Salary calculator\r\n",
    "\r\n",
    "\r\n",
    "Let's look at one way, we can create a function that calculates an employee's salary in java. Your function may look different and that's ok. There are many different solutions to this exercise. "
   ]
  },
  {
   "cell_type": "code",
   "execution_count": 1,
   "metadata": {},
   "outputs": [],
   "source": [
    "public class Exercise3Solution {\r\n",
    "\r\n",
    "    public static double salaryCalculator(double hoursPerWeek,\r\n",
    "                                          double amountPerHour){\r\n",
    "        double weeklyPaycheck = hoursPerWeek * amountPerHour;\r\n",
    "        return (weeklyPaycheck * 52);\r\n",
    "    }\r\n",
    "\r\n",
    "    public static void main(String[] args) {\r\n",
    "        double salary = salaryCalculator(40, 15);\r\n",
    "        System.out.println(salary);\r\n",
    "    }\r\n",
    "\r\n",
    "}"
   ]
  },
  {
   "cell_type": "markdown",
   "metadata": {},
   "source": [
    "For the function, we return a `double` but you could return an `int`, as long as it's numerical.\r\n",
    "\r\n",
    "We also make both of our parameters doubles as well. You could make them `int`s, but it limits your functionality. \r\n",
    "\r\n",
    "In the implementation between the curly brackets, the first thing we do is calculate the weekly paycheck. We multiply the number of hours worked per week, by the amount the employee makes per hour. \r\n",
    "\r\n",
    "In the next step, we return the yearly salary by multiplying the weekly paycheck times `52`. In this case, we are assuming the employee works every week during the year. To call the function, we use the function's name, `salaryCalculator`. \r\n",
    "\r\n",
    "In this example, we say, `\"The employee works 40 hours per week and makes $15 an hour.\"`.\r\n",
    "\r\n",
    "We save the result of this function call, in a variable called `salary`, which we make a `double`. \r\n",
    "\r\n",
    "After the salary is calculated, we print it out to the user. \r\n",
    "\r\n",
    "We run this program, and we see `31,200` in the console. \r\n",
    "\r\n",
    "Now what happens if we put in a negative number of hours per week, or a negative amount per hour? \r\n",
    "\r\n",
    "That's going to cause a problem, so we should do some error checking inside the salary calculator."
   ]
  },
  {
   "cell_type": "code",
   "execution_count": null,
   "metadata": {},
   "outputs": [],
   "source": [
    "public class Exercise3Solution {\r\n",
    "\r\n",
    "    public static double salaryCalculator(double hoursPerWeek,\r\n",
    "                                          double amountPerHour,\r\n",
    "                                          int vacationDays) {\r\n",
    "        if (hoursPerWeek < 0) {\r\n",
    "            return -1;\r\n",
    "        }\r\n",
    "\r\n",
    "        if (amountPerHour < 0) {\r\n",
    "            return -1;\r\n",
    "        }\r\n",
    "\r\n",
    "        double weeklyPaycheck = hoursPerWeek * amountPerHour;\r\n",
    "        double unpaidTime = vacationDays * amountPerHour * 8;\r\n",
    "        return (weeklyPaycheck * 52) - unpaidTime;\r\n",
    "    }\r\n",
    "\r\n",
    "    public static void main(String[] args) {\r\n",
    "        double salary = salaryCalculator(40, 15, 8);\r\n",
    "        System.out.println(salary);\r\n",
    "    }\r\n",
    "\r\n",
    "}"
   ]
  },
  {
   "cell_type": "markdown",
   "metadata": {},
   "source": [
    "We write, ` if (hoursPerWeek < 0)`, then we want to return some value that says, \"Hey your input's invalid.\" In this case, we'll return negative one. \r\n",
    "\r\n",
    "Now let's say, hours per week is valid, but amount per hour is not valid, it's less than zero. We'll want to check that as well. So we'll check `if (amountPerHour < 0)`. If so, we'll return negative one saying this input is invalid. \r\n",
    "\r\n",
    "For the bonus, you can add another parameter, called vacation days. This would be an `int` or `double`. It just depends if you want to allow your employees to take half days for vacation. In this case, we make ours an `int`.\r\n",
    "\r\n",
    "To account for the vacation days, we'll create a variable called `unpaidTime`, and set it to the value of amount per hour times eight. This accounts for how much the employee should be paid less per year, based on one vacation day, however since we have a vacation days variable, we can multiply this by vacation days to see how much less, the employee should be paid per year. \r\n",
    "\r\n",
    "Now that we have the unpaid time set, we can subtract it from the overall salary. We put some parenthesis around `weeklyPaycheck * 52` and then subtract the unpaid time that the employee took off. \r\n",
    "\r\n",
    "Let's edit how we call the function, and run this program again. In this case, we say, \"The employee took eight vacation days.\". With eight vacation days, the employee only makes `$30,240`. The program works! \r\n",
    "\r\n",
    "In the next topic, we'll dig deeper into program design, with classes."
   ]
  }
 ],
 "metadata": {
  "kernelspec": {
   "display_name": "Java",
   "name": "java"
  },
  "language_info": {
   "codemirror_mode": "java",
   "file_extension": ".jshell",
   "mimetype": "text/x-java-source",
   "name": "Java",
   "pygments_lexer": "java",
   "version": "11.0.10+9"
  },
  "orig_nbformat": 2
 },
 "nbformat": 4,
 "nbformat_minor": 2
}