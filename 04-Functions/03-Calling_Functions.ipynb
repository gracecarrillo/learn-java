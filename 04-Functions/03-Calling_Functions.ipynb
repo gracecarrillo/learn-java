{
 "cells": [
  {
   "cell_type": "markdown",
   "metadata": {},
   "source": [
    "# Calling functions in Java\r\n",
    "\r\n",
    "\r\n",
    "Now that we've defined our `announceDeveloperTeaTime();` function we can proceed to the second step of using functions in Java. We just write the name of the function to use or execute the steps within the function. \r\n",
    "\r\n",
    "In java, when we use a function, we say we *call the function*. You can think of this as recalling the steps that were previously defined and executing them. \r\n",
    "\r\n",
    "Let's call a function in Java. \r\n",
    "\r\n",
    "We define our function outside of the main function but we are going to call or use our function inside of the main function. The main function is where the meat of our program gets executed but we can always recall functions that are previously defined as part of the program. \r\n",
    "\r\n",
    "Our `announceDeveloperTeaTime();` function is one of these functions. In our main function we can write `announceDeveloperTeaTime();`. This will call the `announceDeveloperTeaTime();` function, execute its steps and then continue to execute whatever is left in the main function sequentially. \r\n",
    "\r\n",
    "Let's run this in debug mode to see what's happening."
   ]
  },
  {
   "cell_type": "code",
   "execution_count": null,
   "metadata": {},
   "outputs": [],
   "source": [
    "import java.util.Scanner;\r\n",
    "\r\n",
    "public class CallFunction {\r\n",
    "\r\n",
    "    public static void announceDeveloperTeaTime() {\r\n",
    "        System.out.println(\"Waiting for developer tea time...\");\r\n",
    "        System.out.println(\"Type in a random word and press Enter to start developer tea time\");\r\n",
    "        Scanner input = new Scanner(System.in);\r\n",
    "        input.next();\r\n",
    "        System.out.println(\"It's developer tea time!\");\r\n",
    "    }\r\n",
    "    public static void main(String[] args) {\r\n",
    "        announceDeveloperTeaTime();\r\n",
    "    }\r\n",
    "\r\n",
    "}"
   ]
  },
  {
   "cell_type": "markdown",
   "metadata": {},
   "source": [
    "First we'll add a breakpoint to when we call the function (line 15) as well as the first line of the function's implementation (Line 8). \r\n",
    "\r\n",
    "The program's execution has just started. Notice the only variable we have in scope is `args`. \r\n",
    "\r\n",
    "Let's hit continue. \r\n",
    "\r\n",
    "Now we're at our second breakpoint. Calling a function by name means executing the steps associated with the function name. The first step is to execute the print statement. On the next line we create a variable called `input`. We call `input` a **local variable** because it's created within the function. It is **local** to that function and cannot be accessed outside the functions of limitation. Its scope is limited to this function. \r\n",
    "\r\n",
    "Let's continue. Since `input` is accessible at this point of the program we see `input` as a variable in our debugger. On the next line we access this variable and use `.next` to retrieve `input`. \r\n",
    "\r\n",
    "Let's hit continue and let the rest of the program play out. We'll need to enter a random word. We'll type in `random`, and we see `It's Developer Tea Time!` as expected in the console. \r\n",
    "\r\n",
    "Let's add some more code to this main function to make sure that we understand its control flow. "
   ]
  },
  {
   "cell_type": "code",
   "execution_count": 1,
   "metadata": {},
   "outputs": [],
   "source": [
    "import java.util.Scanner;\r\n",
    "\r\n",
    "public class CallFunction {\r\n",
    "\r\n",
    "    public static void announceDeveloperTeaTime() {\r\n",
    "        System.out.println(\"Waiting for developer tea time...\");\r\n",
    "        System.out.println(\"Type in a random word and press Enter to start developer tea time\");\r\n",
    "        Scanner input = new Scanner(System.in);\r\n",
    "        input.next();\r\n",
    "        System.out.println(\"It's developer tea time!\");\r\n",
    "    }\r\n",
    "\r\n",
    "    public static void main(String[] args) {\r\n",
    "\r\n",
    "        // Adding some more code !\r\n",
    "        System.out.println(\"Welcome to your new job\"); \r\n",
    "        \r\n",
    "        announceDeveloperTeaTime();\r\n",
    "\r\n",
    "        System.out.println(\"Write code\");\r\n",
    "        System.out.println(\"Review code\");\r\n",
    "\r\n",
    "        announceDeveloperTeaTime();\r\n",
    "\r\n",
    "        System.out.println(\"Get promoted!\");\r\n",
    "\r\n",
    "    }\r\n",
    "\r\n",
    "}"
   ]
  },
  {
   "cell_type": "markdown",
   "metadata": {},
   "source": [
    "We add a breakpoint every time we call `announceDeveloperTeaTime();`. We'll keep the breakpoint at the implementation level as well. We'll run in debug mode and the first breakpoint we hit is our first call of `announceDeveloperTeaTime();`. \r\n",
    "\r\n",
    "Going to our console we see` Welcome to your new job` has already been printed. \r\n",
    "\r\n",
    "Let's hit continue. \r\n",
    "\r\n",
    "We're walking through the steps of `announceDeveloperTeaTime();`. We'll step over each of these steps and the print statements appear in the console. We'll enter our random word and continue onto the next breakpoint. \r\n",
    "\r\n",
    "We see `It's developer tea time!` from the `announceDeveloperTeaTime();` implementation but now we see `Write code`, `Review code`. These live in our main function after the first `announceDeveloperTeaTime();` call. \r\n",
    "\r\n",
    "Now it's time for the second call of our function. \r\n",
    "\r\n",
    "Let's hit continue and we go right back into those steps. Each print statement we print and then it waits for our `input`, in this case we'll say `panda`. \r\n",
    "\r\n",
    "We'll hit continue. \r\n",
    "\r\n",
    "We `announceDeveloperTeaTime();` again and then we get promoted which is the last line of our main function. \r\n",
    "\r\n",
    "Awesome, we just called our first function. "
   ]
  }
 ],
 "metadata": {
  "kernelspec": {
   "display_name": "Java",
   "language": "java",
   "name": "java"
  },
  "language_info": {
   "name": "java",
   "version": ""
  },
  "orig_nbformat": 2
 },
 "nbformat": 4,
 "nbformat_minor": 2
}