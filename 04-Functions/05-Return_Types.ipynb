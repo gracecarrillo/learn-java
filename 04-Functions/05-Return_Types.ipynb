{
 "cells": [
  {
   "cell_type": "markdown",
   "metadata": {},
   "source": [
    "# Return types in Java\r\n",
    "\r\n",
    "\r\n",
    "So far, the only way we've outputted data is `System.out.println`, and this really outputs data to the user. We've gathered input from the user in the past with the scanner, and in the last lesson, we learned how to input data into functions using parameters. \r\n",
    "\r\n",
    "Now we're going to learn how to output data from functions using **return types**. We'll talk more about return types in a second, but imagine you go to a restaurant with four of your friends, and you all order similarly priced meals and want to tip and tax the same amount. The listed meal price comes out to be `$100`. You want to tip 20%, or `.20`, as a group, and the sales tax is `.08`, 8%. With the function you created in the last notebook, we can calculate the total meal cost, which will come out to `128`, and that would get printed out to the console. \r\n",
    "\r\n",
    "Now what if we wanted to split the bill among me and my friends? The total meal cost is `128`, but I want to know what each person owes on the bill. \r\n",
    "\r\n",
    "We could add a parameter to our function that represents the number of people at the meal and divide the final result by that number, but then the function name doesn't really make sense, because the printed-out statement should represent the total meal cost, not my portion. \r\n",
    "\r\n",
    "What I really want to do is somehow get access to the data outputted by the `calculateTotalMealPrice()` function and manipulate it some more. I want to divide it by five. We can do this with return types. \r\n",
    "\r\n",
    "For the functions we've created, we've always prefixed them with `public static void`. **Void** is actually the return type. Every function in Java returns some value or nothing, and every function we've created so far has returned `void`, or nothing. \r\n",
    "\r\n",
    "For the `calculateTotalMealPrice()` function, we want to return the value of the result variable. The result variable is a `double`, so we'll change `void` to `double` to make `double` our return type. \r\n",
    "\r\n",
    "With the `double` return type, we have to make our function return a `double` value. We can do this using the `return` keyword. We'll write `return` and then the value we want the function to return, in this case, the value stored inside of result. \r\n"
   ]
  },
  {
   "cell_type": "code",
   "execution_count": null,
   "metadata": {},
   "outputs": [],
   "source": [
    "public class ReturnTypes {\r\n",
    "    \r\n",
    "    // change `void` to `double` to make `double` our return type\r\n",
    "    public static double calculateTotalMealPrice(double listedMealPrice,\r\n",
    "                                                double tipRate,\r\n",
    "                                                double taxRate) {\r\n",
    "        double tip = tipRate * listedMealPrice;\r\n",
    "        double tax = taxRate * listedMealPrice;\r\n",
    "        double result = listedMealPrice + tip + tax;\r\n",
    "        return result;      // return the result\r\n",
    "    }\r\n",
    "\r\n",
    "    public static void main(String[] args) {\r\n",
    "        \r\n",
    "    }\r\n",
    "    \r\n",
    "}"
   ]
  },
  {
   "cell_type": "markdown",
   "metadata": {},
   "source": [
    "Awesome. Our function returns the `calculateTotalMealPrice()` result. \r\n",
    "\r\n",
    "Now we can access and save the result in a remain function. \r\n",
    "\r\n",
    "How do we save the result?\r\n",
    "\r\n",
    "Just like we save any value in Java. We can create a variable. First, we'll call the `calculateTotalMealPrice()` function with `100`, `0.2`, and `0.08` as values which will map to `listedMealPrice`, `tipRate`, and `taxRate`. \r\n",
    "\r\n",
    "Then we'll save the output in a variable called `groupTotalMealCost`. This variable will be a `double`, because the return type to the `calculateTotalMealPrice()` function is a `double`. \r\n",
    "\r\n",
    "`groupTotalMealPrice` will have the same value as `result`. \r\n",
    "\r\n",
    "Let's print `groupTotalMealPrice` out to the console, add some break points, and run the code in debug mode. \r\n",
    "\r\n",
    "We'll add one break point at the function call and another break point when the result is returned. \r\n",
    "\r\n",
    "Let's use the debugger. \r\n",
    "\r\n",
    "Here, we're right before the function call. The function will be called, and the result will be saved in `groupTotalMealPrice`. \r\n",
    "\r\n",
    "Let's Continue. \r\n",
    "\r\n",
    "Inside the function, we have `100` for our `listedMealPrice`, `0.2` for the `tipRate`, and `0.08` for the `taxRate`. `result` has the value `128`. And if we run it again, we should see `128` in our console. "
   ]
  },
  {
   "cell_type": "code",
   "execution_count": null,
   "metadata": {},
   "outputs": [],
   "source": [
    "public class ReturnTypes {\r\n",
    "\r\n",
    "    public static double calculateTotalMealPrice(double listedMealPrice,\r\n",
    "                                               double tipRate,\r\n",
    "                                               double taxRate) {\r\n",
    "        double tip = tipRate * listedMealPrice;\r\n",
    "        double tax = taxRate * listedMealPrice;\r\n",
    "        double result = listedMealPrice + tip + tax;\r\n",
    "        return result;\r\n",
    "    }\r\n",
    "\r\n",
    "    // Save the result in groupTotalMealPrice and print it to the console \r\n",
    "    public static void main(String[] args) {\r\n",
    "        double groupTotalMealPrice = calculateTotalMealPrice(100, .2, .08);\r\n",
    "        System.out.println(groupTotalMealPrice);\r\n",
    "    }\r\n"
   ]
  },
  {
   "cell_type": "markdown",
   "metadata": {},
   "source": [
    "And there it is. Returning a value allows us to take a value of a variable within a function and allow it to be accessed at a different scope of our program.\r\n",
    "\r\n",
    "Before, variables and values created within a function could only be accessed and used within that function. With return types, we can calculate a given value and make it accessible to a different part of our program. \r\n",
    "\r\n",
    "Now the ultimate goal was to figure out how much each person in the group owes if the meal is split. There are five people in the group, so we can divide the `groupTotalMealPrice` by five and save it in a variable called `individualTotalMealPrice`. \r\n",
    "\r\n",
    "Let's run the code and see what the individual price is. It's `25.6`. \r\n",
    "\r\n",
    "We just made our function a little more sophisticated by adding a return type. In this case, our return type happened to be a `double`, but it could be a `boolean`, `int`, `char`, `string`, or any other data type that we've covered. \r\n",
    "\r\n",
    "In this notebook, we've been defining and using our own custom functions, but there are functions that are already defined in Java, and we can just use them. We'll take a look at some of the built-in functions next."
   ]
  },
  {
   "cell_type": "code",
   "execution_count": null,
   "metadata": {},
   "outputs": [],
   "source": [
    "public class ReturnTypes {\r\n",
    "\r\n",
    "    public static double calculateTotalMealPrice(double listedMealPrice,\r\n",
    "                                               double tipRate,\r\n",
    "                                               double taxRate) {\r\n",
    "        double tip = tipRate * listedMealPrice;\r\n",
    "        double tax = taxRate * listedMealPrice;\r\n",
    "        double result = listedMealPrice + tip + tax;\r\n",
    "        return result;\r\n",
    "    }\r\n",
    "\r\n",
    "    public static void main(String[] args) {\r\n",
    "        double groupTotalMealPrice = calculateTotalMealPrice(100, .2, .08);\r\n",
    "        System.out.println(groupTotalMealPrice);\r\n",
    "\r\n",
    "        // Calculate and save individualMealPrice and print it\r\n",
    "        double individualMealPrice = groupTotalMealPrice / 5;\r\n",
    "        System.out.println(individualMealPrice);\r\n",
    "    }"
   ]
  }
 ],
 "metadata": {
  "kernelspec": {
   "display_name": "Java",
   "name": "java"
  },
  "language_info": {
   "name": "java",
   "version": ""
  },
  "orig_nbformat": 2
 },
 "nbformat": 4,
 "nbformat_minor": 2
}