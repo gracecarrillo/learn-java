{
 "cells": [
  {
   "cell_type": "markdown",
   "metadata": {},
   "source": [
    "# Using built-in functions in Java\r\n",
    "\r\n",
    "\r\n",
    "So far, we've been creating our functions from scratch. We've defined various functions, added parameters, added return types and then called them in our main function. These functions are called **user-defined functions** because we, as users of Java and software developers, are creating them. We are defining the finite steps. Naming the function appropriately and then calling it in our code. \r\n",
    "\r\n",
    "There are many functions that developers want to use but not necessarily define themselves and the creators of Java have defined some of the them for us. We just have to call the function by the name that's already defined. We don't have to define it. \r\n",
    "\r\n",
    "One function that we've been using a lot that's built in is `println`. We never defined `System.out.println` but we can call it because it's a built-in function to Java. \r\n",
    "\r\n",
    "Back at the beginning of the workshop, we talked about operations on data types. Operations we can run on strings, operations we can run on ints and many of these operations are really functions. The `.equals` operation that we've run in the past is really a string function. \r\n",
    "\r\n",
    "```\r\n",
    "\"red.equals(\"blue\");\r\n",
    "```\r\n",
    "\r\n",
    "The value we've added between the parentheses is the string we want to compare the original string to. The way we call a built-in function might seem a little different than a user-defined function and that's because it is. We are using the dot operator to access many of these built-in functions. \r\n",
    "\r\n",
    "For `System.out.println`, we have to access out from system and then the `println` function from out. For `.equals`, we have to access a string that's already created to access the `.equals` operation. For `.equals`, we have to have a string that's already created to access the `.equals` operation. \r\n",
    "\r\n",
    "We'll talk more about the dot operator in the next topic. But the main takeaway here is sometimes we'll define our custom functions and sometimes we'll use built-in functions. \r\n",
    "\r\n",
    "So how do we find out about all of these built-in functions? \r\n",
    "\r\n",
    "Let's say you want to create a custom function for exponentiation, something that will take a given number to the second power or the fifth power. This is a common task and there might be something in Java that already does this. \r\n",
    "\r\n",
    "So you'll google around and try to find some examples of a built-in function that already does exponentiation or an example if a user-defined function. \r\n",
    "\r\n",
    "Let's try doing that now. Go to google \"exponentiation with Java\".\r\n",
    "\r\n",
    "All right, here's one: (https://www.geeksforgeeks.org/math-pow-method-in-java-with-example/)[https://www.geeksforgeeks.org/math-pow-method-in-java-with-example/]\r\n",
    "\r\n",
    "`Math.pow.` And there are two inputs. The first input is for the base and the second input is for the exponent. \r\n",
    "\r\n",
    "```\r\n",
    "public static double pow(double a, double b)\r\n",
    "Parameter:\r\n",
    "a : this parameter is the base\r\n",
    "b : this parameter is the exponent.\r\n",
    "Return :\r\n",
    "This method returns ab.\r\n",
    "```\r\n",
    "\r\n",
    "We take the base to the power of the exponent, hence the function name `pow`. The way we access it is through `Math` using the dot operator. \r\n",
    "\r\n",
    "Let's try writing this in our code.\r\n",
    "\r\n",
    "We'll write` Math.pow` and you'll notice that some information about the function pops up in our IDE. \r\n",
    "\r\n",
    "We see that it has two parameters that are both doubles and it returns a double. \r\n",
    "\r\n",
    "We'll add two as the base and five as our exponent. We'll save it in a variable called result and then print it to the console. We'll run the program and we get 32 which is two to the power of five. "
   ]
  },
  {
   "cell_type": "code",
   "execution_count": null,
   "metadata": {},
   "outputs": [],
   "source": [
    "public class BuiltinFunction {\r\n",
    "\r\n",
    "    public static void main(String[] args) {\r\n",
    "        double result = Math.pow(2, 5);\r\n",
    "        System.out.println(result);\r\n",
    "    }\r\n",
    "\r\n",
    "}"
   ]
  },
  {
   "cell_type": "markdown",
   "metadata": {},
   "source": [
    "Now, if we type `Math.`, we can see there a lot of different mathematical functions that we can call already built into Java. \r\n",
    "\r\n",
    "`Math` is a part of the Java Standard Library which contains all of the different built-in functions we can access. `Math` is just one component containing a series of built-in functions."
   ]
  },
  {
   "cell_type": "code",
   "execution_count": null,
   "metadata": {},
   "outputs": [],
   "source": [
    "public class BuiltinFunction {\r\n",
    "\r\n",
    "    public static void main(String[] args) {\r\n",
    "        double result = Math.pow(2, 5);\r\n",
    "        System.out.println(result);\r\n",
    "\r\n",
    "        Math. // Let the IDE show you the built-in functions\r\n",
    "    }\r\n",
    "\r\n",
    "}"
   ]
  },
  {
   "cell_type": "markdown",
   "metadata": {},
   "source": [
    "So what's the benefit of using built-in functions? You don't have to write the implementation of the function yourself. The function is already defined and you can just call it. All you have to know about the function is what it takes as input and what the expected output is based on what the function does. \r\n",
    "\r\n",
    "Usually, if there's a built-in function for the thing you want to accomplish, you should use it instead of creating your own custom function. Built-in functions have been tested a lot by the creators of the programming language. They are basically guaranteed to do what they are described to do. \r\n",
    "\r\n",
    "Now is time to test your skills about functions in a coding exercise. Good luck!"
   ]
  }
 ],
 "metadata": {
  "kernelspec": {
   "display_name": "Java",
   "name": "java"
  },
  "language_info": {
   "name": "java",
   "version": ""
  },
  "orig_nbformat": 2
 },
 "nbformat": 4,
 "nbformat_minor": 2
}