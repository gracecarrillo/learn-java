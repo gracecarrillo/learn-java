{
 "cells": [
  {
   "cell_type": "markdown",
   "metadata": {},
   "source": [
    "# Defining functions in Java\r\n",
    "\r\n",
    "\r\n",
    "To use a function in Java, we must first define the function. We've already seen this a little bit with the functions we mapped out in the last notebook. For the `MakePB&MSandwich();` function, we had to define the steps needed to accomplish the given tasks. Make a peanut butter and marmalade sandwich. For `AnnounceDeveloperTeaTime();`, we had to define the steps to announce tea time. It's important to remember that just because we are defining a function, does not mean we are using it. Just because I have given you the instructions on how to make a PB&J, does not mean you've made a PB&J. This means, the way we write this code will be a little different than the things we've written in the past. \r\n",
    "\r\n",
    "Let's try implementing our `AnnounceDeveloperTeaTime();` function in Java. \r\n",
    "\r\n",
    "To define this function, we are going to write code outside the main function for the first time. Everything we've done so far has been about executing code. Not defining new functionality that could potentially be used. To define the new set of steps that we want associated with our `AnnounceDeveloperTeaTime();` function, will go just above the `Main()` function and write, `public static void`. And then the label of our function, `announceDeveloperTeaTime();`. "
   ]
  },
  {
   "cell_type": "code",
   "execution_count": null,
   "metadata": {},
   "outputs": [],
   "source": [
    "public class DefineFunction {\r\n",
    "\r\n",
    "    public static void AnnounceDeveloperTeaTime(); // Adding the label of our function\r\n",
    "    public static void main(String[] args) {\r\n",
    "\r\n",
    "    }\r\n",
    "\r\n",
    "}"
   ]
  },
  {
   "cell_type": "markdown",
   "metadata": {},
   "source": [
    "We won't be covering what the keyword, `public`, means in this workshop. But we'll take a look at the keyword, `static`, in the next topic and the keyword, `void`, later on in this topic. \r\n",
    "\r\n",
    "The name of our function is `AnnounceDeveloperTeaTime();`. Now let's follow this up with some open and closed parenthesis and open-closed curly brackets. We'll talk about the open-closed parenthesis in a later noteboook in this topic. But we are going to put the steps for our function in between the curly brackets. These will be the lines of code that will be executed when out function is used. \r\n",
    "\r\n",
    "Thinking back to the steps we laid out before, the first step is to wait for developer tea time. \r\n",
    "\r\n",
    "So we'll write, `System.out.println (\"waiting for developer tea time...\")`.\r\n",
    "\r\n",
    "To keep this as simple as possible, we are going to make our program pause until the user types a random word and presses Enter on their keyboard. There are other ways we could implement this waiting for developer tea time step, But this is the most straight forward with what we know so far. For this function, once the user types the random word and presses Enter, we'll announce that it's developer's tea time. \r\n",
    "\r\n",
    "To check if the user has entered the word into the console, we'll need to create a `Scanner` and use the `.next` operation, as we've done before. We won't need to reference or use the random word that the user enters. So we can write input `.next` and not save it to a variable. \r\n",
    "\r\n",
    "Finally, let's announce `\"It's developer tea time!\"` with a print statement. \r\n",
    "\r\n",
    "Awesome! Now, we have our first function. The function name is `AnnounceDeveloperTeaTime();` and it has five steps or five lines of code to execute. With our function defined we can use it in our program."
   ]
  },
  {
   "cell_type": "code",
   "execution_count": null,
   "metadata": {},
   "outputs": [],
   "source": [
    "import java.util.Scanner;\r\n",
    "\r\n",
    "public class DefineFunction {\r\n",
    "\r\n",
    "    public static void announceDeveloperTeaTime() {\r\n",
    "        System.out.println(\"Waiting for developer tea time...\");\r\n",
    "        System.out.println(\"Type in a random word and press Enter to start developer tea time\");\r\n",
    "        Scanner input = new Scanner(System.in);\r\n",
    "        input.next();\r\n",
    "        System.out.println(\"It's developer tea time!\");\r\n",
    "    }\r\n",
    "    public static void main(String[] args) {\r\n",
    "\r\n",
    "    }\r\n",
    "\r\n",
    "}"
   ]
  }
 ],
 "metadata": {
  "kernelspec": {
   "display_name": "Java",
   "name": "java"
  },
  "language_info": {
   "name": "java",
   "version": ""
  },
  "orig_nbformat": 2
 },
 "nbformat": 4,
 "nbformat_minor": 2
}