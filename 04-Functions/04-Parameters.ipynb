{
 "cells": [
  {
   "cell_type": "markdown",
   "metadata": {},
   "source": [
    "# Parameters in Java\r\n",
    "\r\n",
    "\r\n",
    "The `announceDeveloperTeaTime();` function had no inputs. It was just a series of steps that the program followed every time the function was called. The output was always the same. There was nothing dynamic about it. \r\n",
    "\r\n",
    "What if I wanted the output to be different depending on what was inputted into the function? \r\n",
    "\r\n",
    "For example, let's say I wanted to calculate the total cost of a meal including tip and tax. To calculate this we would first figure out the tip by multiplying the tip rate with the listed price of the meal. We would figure out the tax by multiplying the tax rate with the listed price of the meal as well. Then we would add the tip, tax, and listed price of the meal and output the result. \r\n",
    "\r\n",
    "These are finite steps that we can label `calculateTotalMealPrice();`. Of course, almost every meal you order will have a different listed price. And sometimes you might want to tip a different rate depending on what service you get. And sometimes you might want to tip a different rate depending on the service you get. Sales tax rates also differ depending on what state or country you are in. \r\n",
    " \r\n",
    "How can we account for this in our function? What value could we possibly give listed meal price, tip rate, and tax rate if they change every time? \r\n",
    "\r\n",
    "In this notebook we are going to create a function with inputs. Adding inputs is going to allow us to insert a specific listed meal price, tip break, and tax rate into the function every time we call the function. The listed meal price, tip rate, and tax rate inputs will be defined in the functions definition. But the values of these inputs will be assigned when we use the function or call the function. \r\n",
    "\r\n",
    "Let's try implementing this in Java. "
   ]
  },
  {
   "cell_type": "code",
   "execution_count": 1,
   "metadata": {},
   "outputs": [],
   "source": [
    "// Our function starts off with `public static void` and uses \r\n",
    "// the function name `calculateTotalMealPrice();`.\r\n",
    "\r\n",
    "public class Parameters {\r\n",
    "\r\n",
    "    public static void calculateTotalMealPrice() {\r\n",
    "\r\n",
    "        double tip = tipRate * listedMealPrice;\r\n",
    "        double tax = taxRate * listedMealPrice;\r\n",
    "        double result = listedMealPrice + tip + tax;\r\n",
    "        System.out.println(\"Your total meal price is \" + result);\r\n",
    "    }\r\n",
    "\r\n",
    "    public static void main(String[] args) {\r\n",
    "    }\r\n",
    "\r\n",
    "}"
   ]
  },
  {
   "cell_type": "markdown",
   "metadata": {},
   "source": [
    "Using our formula from before we'll calculate the tip by multiplying the tip rate with the listed meal price. \r\n",
    "\r\n",
    "We'll calculate the tax by multiplying tax rate with listed meal price. \r\n",
    "\r\n",
    "We'll calculate the result by adding together listed meal price, tip, and tax. \r\n",
    "\r\n",
    "Then we'll output the result to the console. \r\n",
    "\r\n",
    "You might notice that the listed meal price, tip rate, and tax rate are red.  And that's because we haven't defined those as inputs to our function. To define an input we add code between the parentheses in `calculateTotalMealPrice()`. \r\n",
    "\r\n",
    "Our first input will be `listedMealPrice`. So we'll write the data type that listed meal price should have, in this case `double` and then the name of our input, `listedMealPrice`. \r\n",
    "\r\n",
    "We just defined our first input to the `calculateTotalMealPrice();` function. And notice `listedMealPrice` is no longer red. \r\n",
    "\r\n",
    "Let's do this for tip rate and tax rate. Both of these will be doubles. \r\n",
    "\r\n",
    "Thinking back to our discussion of scope these inputs are only accessible within the functions implementation. We'll give these inputs a value later on but since they are created here as a part of the functions definition they can only be used within the function.  "
   ]
  },
  {
   "cell_type": "code",
   "execution_count": null,
   "metadata": {},
   "outputs": [],
   "source": [
    "public class Parameters {\r\n",
    "    \r\n",
    "    // We define the inputs of our function\r\n",
    "    public static void calculateTotalMealPrice(double listedMealPrice,\r\n",
    "                                               double tipRate,\r\n",
    "                                               double taxRate) {\r\n",
    "        double tip = tipRate * listedMealPrice;\r\n",
    "        double tax = taxRate * listedMealPrice;\r\n",
    "        double result = listedMealPrice + tip + tax;\r\n",
    "        System.out.println(\"Your total meal price is \" + result);\r\n",
    "    }\r\n",
    "\r\n",
    "}"
   ]
  },
  {
   "cell_type": "markdown",
   "metadata": {},
   "source": [
    "Now that our inputs are defined, let's add a call to `calculateTotalMealPrice();`. If we try calling this function like our `announceDeveloperTeaTime();` function it won't work. Unlike `announceDeveloperTeaTime();` we defined inputs to this function and we have to give each of those inputs a value when we call the function. \r\n",
    "\r\n",
    "The first input to our function is `listedMealPrice`. We can give this input the value `15` by adding `15` between the parentheses. But we still have an error. That's because we need to add a value for each input not just the first. We also have the tip rate and tax rate. We'll add `.2`, `20%` for the tip, and `.08` for the tax rate, 8%. \r\n",
    "\r\n",
    "It's important to remember that the order does matter here. So the first input defined in the function will get the first value in the parentheses and so on. \r\n",
    "\r\n",
    "Let's run the code and see what happens. \r\n",
    "\r\n",
    "And we get an output. Your total meal cost is `19.2`. \r\n",
    "\r\n",
    "Let's try changing the values of the inputs to this function. Instead of `15`, we'll say the listed meal price is `25`. We'll also say we only want to tip 18% or `.18`. The tax rate will stay the same. Let's run the code again and the second output says the meal price is `31.5`. \r\n",
    "\r\n",
    "Changing the inputs to our `calculateTotalMealPrice();` function affected the outputs. \r\n",
    "\r\n",
    "This is the first time we've used a function with different input values. In the next notebook we'll continue to make `calculateTotalMealPrice();` more sophisticated."
   ]
  },
  {
   "cell_type": "code",
   "execution_count": 2,
   "metadata": {},
   "outputs": [],
   "source": [
    "// Our final code snippet \r\n",
    "public class Parameters {\r\n",
    "\r\n",
    "    public static void calculateTotalMealPrice(double listedMealPrice,\r\n",
    "                                               double tipRate,\r\n",
    "                                               double taxRate) {\r\n",
    "        double tip = tipRate * listedMealPrice;\r\n",
    "        double tax = taxRate * listedMealPrice;\r\n",
    "        double result = listedMealPrice + tip + tax;\r\n",
    "        System.out.println(\"Your total meal price is \" + result);\r\n",
    "    }\r\n",
    "\r\n",
    "    public static void main(String[] args) {\r\n",
    "        calculateTotalMealPrice(15, .20, .08);\r\n",
    "        calculateTotalMealPrice(25, .18, .08);\r\n",
    "    }\r\n",
    "\r\n",
    "}"
   ]
  }
 ],
 "metadata": {
  "kernelspec": {
   "display_name": "Java",
   "name": "java"
  },
  "language_info": {
   "codemirror_mode": "java",
   "file_extension": ".jshell",
   "mimetype": "text/x-java-source",
   "name": "Java",
   "pygments_lexer": "java",
   "version": "11.0.10+9"
  },
  "orig_nbformat": 2
 },
 "nbformat": 4,
 "nbformat_minor": 2
}