{
 "cells": [
  {
   "cell_type": "markdown",
   "metadata": {},
   "source": [
    "# What are functions? (conceptually)\r\n",
    "\r\n",
    "\r\n",
    "So far, we've created code that has run sequentially, one line after the other. We have also written code that manipulates the program's control flow with if statements and loops. The way we have written code so far has more to do with the way that it's executed, rather than the way it's designed. \r\n",
    "\r\n",
    "In the next two topics, we'll be focusing more on program design, and how we can create programs that are readable, and easily understood by other software developers. \r\n",
    "\r\n",
    "Let's get started with functions. In software development, a function is just a series of finite steps that accomplish some task. \r\n",
    "\r\n",
    "Let's say we have the task of creating a peanut butter and marmalade sandwich. \r\n",
    "\r\n",
    "The first step would be to gather the ingredients: two slices of bread, peanut butter, marmalade, a knife, a plate. The next step would be to spread the peanut butter on one slice, and marmalade on the other slice. Next, you would put the two slices together to create the sandwich, and finally, you would place them on the plate. \r\n",
    "\r\n",
    "Each of these steps that I've mentioned is a defined step that we take in order to complete the make PB&M task. We call the combination of these finite steps in association with a task, a **function**. \r\n",
    "\r\n",
    "So how do you use a function? We can use its label, or the name we give the task. In our case, the task name is `makePBAndMSandwich`. This means every time I want to make a PB&M, we can just use the label, or the name of the function, `makePBAndJSandwich`, instead of listing out every step. To use the function, we would just write the function name with some open and closed parentheses. \r\n",
    "\r\n",
    "```\r\n",
    "makePBAndMSandwich();\r\n",
    "makePBAndMSandwich();\r\n",
    "makePBAndMSandwich();\r\n",
    "```\r\n",
    "\r\n",
    "This makes three peanut butter and marmalade sandwiches, because it executes the function code three times. Without functions, we would have to copy and paste all of those steps three times, which would be unnecessarily wordy. \r\n",
    "\r\n",
    "We want our code to be designed as we live and work in every day life. When I tell someone to make a PB&M sandwich, I don't need to tell them all the steps. I just use the name of the task, but at some point, long ago, that person learned how to make a PB&M sandwich, and associated the steps with accomplishing that task. \r\n",
    "\r\n",
    "For our programs, we have to write code that defines the task, as well as all the steps needed to complete that task, or make the PB&M. Once it's defined, we can use the task name to execute the function as many times as we want. \r\n",
    "\r\n",
    "Now, our functions don't have to have a bunch of steps. Let's say we wanted to create a function that prints out `\"It's Developer Tea Time!\"` whenever it's time for tea. The name, or label, for the function would be `announceDeveloperTeaTime`, and for the steps, it would wait for the appropriate time, and then print out `\"It's Developer Tea Time!\"` To use the function, we would just need to use the name `announceDeveloperTeaTime();`. \r\n",
    "\r\n",
    "## Why use functions?\r\n",
    "\r\n",
    "So why use functions? Functions help developers organise their code in a meaningful way. Organising a series of steps under a label helps us keep track of certain tasks we might want to accomplish in our program. It also helps us define a single task once, so that it can be used all throughout our program. \r\n",
    "\r\n",
    "For example, once we know how to make a PB&M once, we can just use the task name to make one. Now, what if we wanted to change how to make a PB&J? Or, we wanted to change how we announce `Developer Tea Time?` Instead of having to change a bunch of separate lines in the code, we can just go to the function steps, and modify the step we want to change. For example, if we wanted to change our announcement to `\"It's Developer Tea Time! It's time for some snacks.\"` We would just change the one print statement in the `announceDeveloperTeaTime();` steps instead of changing a bunch of lines of code. \r\n",
    "\r\n",
    "Ultimately, functions make it easier to change what our code is doing. Next, we'll create and use our first function in Java."
   ]
  }
 ],
 "metadata": {
  "kernelspec": {
   "display_name": "Java",
   "name": "java"
  },
  "language_info": {
   "name": "java",
   "version": ""
  },
  "orig_nbformat": 2
 },
 "nbformat": 4,
 "nbformat_minor": 2
}