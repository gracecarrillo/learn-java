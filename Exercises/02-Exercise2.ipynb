{
 "cells": [
  {
   "cell_type": "markdown",
   "metadata": {},
   "source": [
    "# Exercise: Find the errors\r\n",
    "\r\n",
    "It's time to find some errors in a program with this coding exercise. Be sure to use the tools you've learned about so far, including print statements, break points, and the debugger. \r\n",
    "\r\n",
    "For this exercise, you will find and fix three errors hidden in a program that calculates the area of a triangle. \r\n",
    "\r\n",
    "The program will ask the user for the base of the triangle and the height of the triangle. Then the program will calculate the area of the triangle using the formula, base times height divided by two. Once the area of the triangle is found, the program will output the area to the user. \r\n",
    "\r\n",
    "Neither the base nor the height of the triangle should be less than or equal to zero. \r\n",
    "\r\n",
    "Let's check out the current program. In the `Main` function, we should calculate the area of a triangle. Right now, the program doesn't work and there are three errors. Check out the exercise files to get access to this program. \r\n",
    "\r\n",
    "Good luck!"
   ]
  },
  {
   "cell_type": "code",
   "execution_count": null,
   "metadata": {},
   "outputs": [],
   "source": [
    "import java.util.Scanner;\r\n",
    "\r\n",
    "public class Main {\r\n",
    "\r\n",
    "    public static void main(String[] args) {\r\n",
    "\r\n",
    "        System.out.println(\"Let's calculate the area of a triangle\");\r\n",
    "\r\n",
    "        Scanner input = new Scanner(System.in);\r\n",
    "\r\n",
    "        System.out.println(\"Please input the base of the triangle (in inches).\");\r\n",
    "        double base = input.nextDouble()\r\n",
    "\r\n",
    "        while (base <= 0) {\r\n",
    "            System.out.println(\"That's invalid. Please input the base of the triangle (in inches).\");\r\n",
    "            base = input.nextDouble();\r\n",
    "        }\r\n",
    "\r\n",
    "        System.out.println(\"Please input the height of the triangle (in inches).\");\r\n",
    "        double height = input.nextDouble();\r\n",
    "        while (height <= 0) {\r\n",
    "            System.out.println(\"That's invalid. Please input the base of the triangle (in inches).\");\r\n",
    "            base = input.nextDouble();\r\n",
    "        }\r\n",
    "\r\n",
    "        double area = (base * height) / 2;\r\n",
    "        System.out.println(\"The area is \" + height);\r\n",
    "\r\n",
    "    }\r\n",
    "}"
   ]
  }
 ],
 "metadata": {
  "kernelspec": {
   "display_name": "Java",
   "name": "java"
  },
  "language_info": {
   "name": "java",
   "version": ""
  },
  "orig_nbformat": 2
 },
 "nbformat": 4,
 "nbformat_minor": 2
}