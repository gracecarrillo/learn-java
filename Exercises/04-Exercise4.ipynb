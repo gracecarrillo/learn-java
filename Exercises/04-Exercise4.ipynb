{
 "cells": [
  {
   "cell_type": "markdown",
   "metadata": {},
   "source": [
    "# Exercise: Student profile\r\n",
    "\r\n",
    "\r\n",
    "It's time to test your knowledge of classes and instances with a coding exercise. Be sure to use what you've learned so far about the different parts of a class, what a constructor does, how to create and use an instance, and more. \r\n",
    "\r\n",
    "For this exercise, you will represent a GIC student's profile with a Java class. You can get creative here about what you would like to represent, but the student profile should contain at least a first name, last name, average score, expected year to graduate, and declared MSc major. If you want to represent more attributes for the student profile, you are welcome to. The student profile class should also have at least one behaviour in addition to attributes. You can add any behaviours you would like. But one behaviour should increment the student's expected year to graduate by one. \r\n",
    "\r\n",
    "Sometimes a student can't get into the right classes in order to graduate on time and must graduate the following year. To accommodate this, we should have a function that increments the student's expected year to graduate. You can model what type of credits the student has or how many credits the student has overall. But that's out of the scope for this exercise. You are welcome to add them if you would like, but they will not be part of the solution. \r\n",
    "\r\n",
    "After you've created the student profile class, you should have a constructor that initialises all of the attributes with dynamic values, meaning the values that the constructor is called with will determine the values of the attributes. \r\n",
    "\r\n",
    "In your program, you should create two student profiles instances that represent two different students. You should also call the increment expected graduation year function on one of the students, and print out their expected graduation year value to the console. \r\n",
    "\r\n",
    "Good luck!"
   ]
  }
 ],
 "metadata": {
  "kernelspec": {
   "display_name": "Java",
   "language": "java",
   "name": "java"
  },
  "language_info": {
   "name": "java",
   "version": ""
  },
  "orig_nbformat": 2
 },
 "nbformat": 4,
 "nbformat_minor": 2
}