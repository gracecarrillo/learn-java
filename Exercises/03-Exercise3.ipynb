{
 "cells": [
  {
   "cell_type": "markdown",
   "metadata": {},
   "source": [
    "# Exercise: Salary calculator\r\n",
    "\r\n",
    "\r\n",
    "It's time to test your knowledge of functions with this exercise challenge. Be sure to use what you've learned so far about defining a function, calling a function, and various built-in functions that exist. \r\n",
    "\r\n",
    "For this exercise, you will create a function that calculates an employee's salary, given how many hours that are worked per week and how much the person makes per hour. Your inputs should be how many hours the employee works per week and how much the person makes per hour. Your output will be the employee's yearly salary. \r\n",
    "\r\n",
    "For this example, we'll be looking at the employee's gross income for the particular job. So there's no need to worry about taxes or any of that. This is just the total amount made by the employee. \r\n",
    "\r\n",
    "For a bonus, add an input that accounts for the vacation days an employee might take. Let's say the employee is a contractor and does not get paid for vacation days. We can assume that a vacation day maps to eight hours of work. \r\n",
    "\r\n",
    "For this exercise, there is no sample code to start, it's all up to you, good luck!"
   ]
  }
 ],
 "metadata": {
  "kernelspec": {
   "display_name": "Java",
   "name": "java"
  },
  "language_info": {
   "name": "java",
   "version": ""
  },
  "orig_nbformat": 2
 },
 "nbformat": 4,
 "nbformat_minor": 2
}