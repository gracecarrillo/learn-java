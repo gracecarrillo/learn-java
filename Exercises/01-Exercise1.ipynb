{
 "cells": [
  {
   "cell_type": "markdown",
   "metadata": {},
   "source": [
    "# EXERCISE: Multiple choice\r\n",
    "\r\n",
    "It's time to practice your control flow skills with this coding exercise.\r\n",
    "\r\n",
    "Be sure to use the tools you've learned about so far, including if statements, while loops, variables, and input-output. \r\n",
    "\r\n",
    "For this exercise, you will implement a single multiple-choice question in Java. \r\n",
    "\r\n",
    "You will come up with a question as well as three possible answer choices. One of these choices should be the correct answer. \r\n",
    "\r\n",
    "Using your knowledge of control flow and input and output, you will ask the user the question as well as provide the possible answer choices. The user will respond with one of these choices. If the user is correct, we will print out a congratulations message. If the user is incorrect, we will print out that the user is incorrect, as well as what the correct answer choice is. \r\n",
    "\r\n",
    "We've set up a few things for you in the code, so let's walk through what we have so far. \r\n",
    "\r\n",
    "First, we have four string variables. The first should contain the question. You will have to write in the question value. The next three contain answer choices. You will write in the values of the answers, as well. One of these choices will be the correct answer, and you should set that on line 10. \r\n",
    "\r\n",
    "The correct answer does not have to be choice two. It can be whatever you'd like. You may have noticed these grayed-out notes below. \r\n",
    "\r\n",
    "These are called comments. \r\n",
    "\r\n",
    "Whenever we want to make a note in our code just to the developers viewing the code, we use a comment. They are not evaluated or used by our program. We create a comment with two backslashes, and then write whatever note we would like to share. \r\n",
    "\r\n",
    "Let's get back to the exercise. Next, we'll write a print statement asking the user and then providing the answer choices to the user. Then you'll retrieve the user's input and check if it matches the correct answer. If the user is correct, print out a congrats message. If the user is incorrect, print out that the user is incorrect as well as what the correct answer choice is.\r\n",
    "\r\n",
    " Good luck!"
   ]
  },
  {
   "cell_type": "code",
   "execution_count": null,
   "metadata": {},
   "outputs": [],
   "source": [
    "public class Main {\r\n",
    "\r\n",
    "    public static void main(String args[]) {\r\n",
    "        String question = \"\";\r\n",
    "        String choiceOne = \"\";\r\n",
    "        String choiceTwo = \"\";\r\n",
    "        String choiceThree = \"\";\r\n",
    "\r\n",
    "        String correctAnswer = choiceTwo;\r\n",
    "\r\n",
    "        // Write a print statement asking the question\r\n",
    "        // Write a print statement giving the answer choices\r\n",
    "\r\n",
    "        // Have the user input an answer\r\n",
    "        // Retrieve the user's input\r\n",
    "\r\n",
    "        // If the user's input matches the correctAnswer...\r\n",
    "        // then the user is correct and we want to print out a congrats message to the user.\r\n",
    "\r\n",
    "        // If the user's input does not match the correctAnswer...\r\n",
    "        // then the user is incorrect and we want to print out a message saying that the user \r\n",
    "        // is incorrect as well as what the correct choice was.\r\n",
    "\r\n",
    "    }\r\n",
    "\r\n",
    "}"
   ]
  }
 ],
 "metadata": {
  "kernelspec": {
   "display_name": "Java",
   "language": "java",
   "name": "java"
  },
  "language_info": {
   "name": "java",
   "version": ""
  },
  "orig_nbformat": 2
 },
 "nbformat": 4,
 "nbformat_minor": 2
}