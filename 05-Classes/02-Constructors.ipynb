{
 "cells": [
  {
   "cell_type": "markdown",
   "metadata": {},
   "source": [
    "# Constructors in Java\r\n",
    "\r\n",
    "When we were talking about functions in an earlier chapter, we had to define a function in order to call it. \r\n",
    "\r\n",
    "Similarly, we have to define a blueprint or class in order to use it. In the last notebook, we talked about defining the Triangle class or triangle blueprint. But we haven't created any triangles yet. We just defined the attributes and behaviour of a triangle in a blueprint. \r\n",
    "\r\n",
    "\r\n",
    "## What is an Instance? \r\n",
    "\r\n",
    "We are going to learn how to create individual triangle instances in our program. An instance is an object created from the class blueprint. Just like we make buildings from blueprints in real life, we use a class or blueprint to create objects or instances in code. \r\n",
    "\r\n",
    "Thinking back to our triangle class, a triangle has a base height and three side lengths. An instance of a triangle, say named `triangleA`, could have a base `15`, height of 8, and sides with lengths 15, 8, and 17). \r\n",
    "\r\n",
    "```\r\n",
    "Example Instance One: triangleA: base=15, height=8, sideLenOne=15, sideLenTwo=8, sideLenThree=17\r\n",
    "```\r\n",
    "\r\n",
    "Another instance of a triangle could have base 3, height 2.598, and side lengths 3, 3, and 3. \r\n",
    "\r\n",
    "```\r\n",
    "Example Instance Two: triangleA: base=3, height=2.598, sideLenOne=3, sideLenTwo=3, sideLenThree=3\r\n",
    "```\r\n",
    "\r\n",
    "From our single Triangle class, we can create as many instances as we want and each instance will have its own base, height, and side length attribute variables. \r\n",
    "\r\n",
    "## How do we create these instances? \r\n",
    "\r\n",
    "We use a special method or behaviour called a **constructor**. Every class has a constructor and it's how we create and initialise each triangle we want to use in our program. It's how we can create `triangleA` with specific base, height, and side length values, and then construct triangleB with different attribute values. We call this special function inside the Triangle class.\r\n",
    "\r\n",
    "What does a constructor look like? Since it's a function, it has a name and that name is always the same as the name of the class, so in this case, triangle. Then we have open-close parentheses for the inputs to the function and brackets for the implementation of the function. Right now, they are empty. For the return type, the constructor always returns an instance of the class, in this case an instance of triangle. We don't have to state it in the definition of the method because it's already built into Java to expect that behaviour. "
   ]
  },
  {
   "cell_type": "code",
   "execution_count": null,
   "metadata": {},
   "outputs": [],
   "source": [
    "public Triangle () {\r\n",
    "}"
   ]
  },
  {
   "cell_type": "markdown",
   "metadata": {},
   "source": [
    "In the implementation, we won't be using the return keyword either because no matter what we do in the constructor, it will always return an instance of the class, in this case `Triangle`. \r\n",
    "\r\n",
    "In constructing a `Triangle` instance or `Triangle` object we'll want to initialise its attributes with values. We'll want to give a value to the base, the height, and the side lengths. \r\n",
    "\r\n",
    "We could set these to any default value but ideally this constructor would be dynamic and on-the-fly decide what values to give these attributes. To do this, we can add parameters representing each triangle attribute to this function. Just like our parameters to other functions each parameter has a data type and a name. Each parameter does not have to have the same name as the attribute their data represents but it is often the case that this is so. "
   ]
  },
  {
   "cell_type": "code",
   "execution_count": null,
   "metadata": {},
   "outputs": [],
   "source": [
    "public Triangle (double base;\r\n",
    "                double height; \r\n",
    "                double sideLenOne; \r\n",
    "                double sideLenTwo; \r\n",
    "                double sideLenThree;\r\n",
    "                ) {\r\n",
    "}"
   ]
  },
  {
   "cell_type": "markdown",
   "metadata": {},
   "source": [
    "This might look a little intimidating but stick with me. This was tough for me too when I first got started with Java. \r\n",
    "\r\n",
    "With parameters, we have access to the appropriate values we want to assign to each of the attributes. To access the attribute variable for the object we are trying to construct, we use the `this` keyword and the dot `.` operator. "
   ]
  },
  {
   "cell_type": "code",
   "execution_count": null,
   "metadata": {},
   "outputs": [],
   "source": [
    "public Triangle(double base; \r\n",
    "                double height; \r\n",
    "                double sideLenOne; \r\n",
    "                double sideLenTwo; \r\n",
    "                double sideLenThree;\r\n",
    "                ) {\r\n",
    "\r\n",
    "        this.base = base;\r\n",
    "        this.height = height;\r\n",
    "        this.sideLenOne = sideLenOne;\r\n",
    "        this.sideLenTwo = sideLenTwo;\r\n",
    "        this.sideLenThree = sideLenThree;\r\n",
    "}"
   ]
  },
  {
   "cell_type": "markdown",
   "metadata": {},
   "source": [
    "The `this` keyword helps our program make a distinction between the attribute variable and the parameter variable. We use the word `this` because we are talking about an attribute of the triangle we are constructing rather than the parameter variable. \r\n",
    "\r\n",
    "When we use the dot `.` operator on the keyword `this` we can access the to-be-created instance's attribute variables. This allows us to access the instance we are creating's base, height, and side lengths so we can initialise them. \r\n",
    "\r\n",
    "With this code, we are initialising the attributes of the new triangle with the values of the corresponding parameters. \r\n",
    "\r\n",
    "In the constructor, we initialise the triangle we are creating's base attribute with the value given in the base parameter. We also initialise the new triangle's height attribute with the value given in the height parameter and so on for each attribute of the triangle we are creating. \r\n",
    "\r\n",
    "And that's our constructor function defined. \r\n",
    "\r\n",
    "How do we use it? Just like any other function, we'll call it with argument values and it will return a triangle. The only difference is that because we are creating a new triangle object or a new triangle instance we have to use the new keyword. \r\n",
    "\r\n",
    "In the example below, we create two variables with the data type Triangle. One triangle is named `triangleA` and the other is called `triangleB`. Then we use the new keyword and call the constructor with the appropriate attribute values. It returns a triangle that is now stored in the respective variable. \r\n",
    "\r\n",
    "The `triangleA` instance will have a base with the value `15`, height with the value `8`, side length one with `15`, side length two with `8`, and side length three with `17`. \r\n",
    "\r\n",
    "The `triangleB` instance will have a base with the value `3`, a height of `2.598`, and all side lengths with value `3`. "
   ]
  },
  {
   "cell_type": "code",
   "execution_count": null,
   "metadata": {},
   "outputs": [],
   "source": [
    "Triangle triangleA = new Triangle(15, 8, 15, 8, 17);\r\n",
    "Triangle triangleB = new Triangle(3, 2.598, 3, 8, 3);"
   ]
  },
  {
   "cell_type": "markdown",
   "metadata": {},
   "source": [
    "Now you might be thinking, \"`Triangle` is now a data type?\" And yes, it is. \r\n",
    "\r\n",
    "When we create a class, we are essentially creating a new way to store a group of data. Just think about all those `double` values we are storing. Our class is one particular way we've decided to store and organise data about a triangle. This means when we create a triangle, store it in a variable or perhaps even use it as a parameter, we must remember to use `Triangle` as our data type. \r\n",
    "\r\n",
    "Let's try puting all of this together by defining our first class in Java and creating instances from it using a constructor."
   ]
  }
 ],
 "metadata": {
  "kernelspec": {
   "display_name": "Java",
   "language": "java",
   "name": "java"
  },
  "language_info": {
   "name": "java",
   "version": ""
  },
  "orig_nbformat": 2
 },
 "nbformat": 4,
 "nbformat_minor": 2
}