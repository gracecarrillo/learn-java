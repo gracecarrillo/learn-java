{
 "cells": [
  {
   "cell_type": "markdown",
   "metadata": {},
   "source": [
    "# Creating a class in Java\r\n",
    "\r\n",
    "With an understanding of classes, instances and the constructor, we can begin to write Java Code that helps us represent a triangle in a program. \r\n",
    "\r\n",
    "First, we need to write code that defines our triangle blueprint. And we can do that with the `Triangle` class. In Java, we can create a new class file and name it `Triangle.java`. We have created this for you already. It's in the `CodeSnippets/Triangle.java` path. \r\n",
    "\r\n",
    "Inside the curly braces for our class, we'll need to add the attributes and behaviour we want the class to have. \r\n",
    "\r\n",
    "In earlier lessons, we said that a triangle has a base, height and three different side links. We can add those inside of our class."
   ]
  },
  {
   "cell_type": "code",
   "execution_count": null,
   "metadata": {},
   "outputs": [],
   "source": [
    "public class Triangle {\r\n",
    "    // create instance variables \r\n",
    "    double base; \r\n",
    "    double height; \r\n",
    "    double sideLenOne; \r\n",
    "    double sideLenTwo; \r\n",
    "    double sideLenThree;\r\n",
    "\r\n",
    "}\r\n"
   ]
  },
  {
   "cell_type": "markdown",
   "metadata": {},
   "source": [
    "We now have five attribute variables that we have created, but they do not have a value yet. These attribute variables are also called **instance variables** because they are variables that each instance will have an individual value for. \r\n",
    "\r\n",
    "We could assign a default value to these instance variables, but as we discussed in the last notebook, usually, we want a constructor to initialise them. \r\n",
    "\r\n",
    "With the constructor, we can create a triangle instance with specific base, height and side length values. To create a constructor, we'll write `public Triangle`, and then our inputs. \r\n",
    "\r\n",
    "Next, we'll use these inputs to assign values to our attributes. "
   ]
  },
  {
   "cell_type": "code",
   "execution_count": null,
   "metadata": {},
   "outputs": [],
   "source": [
    "public class Triangle {\r\n",
    "    // create instance variables \r\n",
    "    double base; \r\n",
    "    double height; \r\n",
    "    double sideLenOne; \r\n",
    "    double sideLenTwo; \r\n",
    "    double sideLenThree;\r\n",
    "\r\n",
    "    // add constructor and inputs\r\n",
    "    public Triangle(double base, double height, \r\n",
    "                    double sideLenOne, double sideLenTwo,\r\n",
    "                    double sideLenThree) {\r\n",
    "        \r\n",
    "    }\r\n",
    "\r\n",
    "}"
   ]
  },
  {
   "cell_type": "markdown",
   "metadata": {},
   "source": [
    "To access each attribute, we'll write, `this.` and then the attribute name. And then to assign it a value, the value of one of our inputs, we'll just use the name of that parameter. "
   ]
  },
  {
   "cell_type": "code",
   "execution_count": null,
   "metadata": {},
   "outputs": [],
   "source": [
    "public class Triangle {\r\n",
    "    // create instance variables \r\n",
    "    double base; \r\n",
    "    double height; \r\n",
    "    double sideLenOne; \r\n",
    "    double sideLenTwo; \r\n",
    "    double sideLenThree;\r\n",
    "\r\n",
    "    // add constructor and inputs\r\n",
    "    public Triangle(double base, double height, \r\n",
    "                    double sideLenOne, double sideLenTwo,\r\n",
    "                    double sideLenThree) {\r\n",
    "\r\n",
    "        // access attributes\r\n",
    "        this.base = base;\r\n",
    "        this.height = height;\r\n",
    "        this.sideLenOne = sideLenOne;\r\n",
    "        this.sideLenTwo = sideLenTwo;\r\n",
    "        this.sideLenThree = sideLenThree;\r\n",
    "    }\r\n",
    "\r\n",
    "}"
   ]
  },
  {
   "cell_type": "markdown",
   "metadata": {},
   "source": [
    "You'll notice that as we use each attribute, it becomes highlighted, because now it's in use by the program. It's not just some attribute that's created and never used. \r\n",
    "\r\n",
    "If we think of this in relation to scope, the attributes are accessible throughout the `Triangle` class. But the constructors parameters are only accessible inside the constructor. Since the attribute in the constructor's parameter have the same name, we use `this` in the dot `.` operator on the attributes to keep them separate. \r\n",
    "\r\n",
    "Here, we have a constructor that takes in unique values with parameters and assigns them to their corresponding attribute. \r\n",
    "\r\n",
    "The constructor is just one behaviour or method that a class can have. But we can have as many methods as we want.\r\n",
    "\r\n",
    "Method is just another name for a behaviour or function that belongs to a class. In an earlier notebook, we talked about adding a function that finds the area of a triangle to this class. We can do just that. \r\n",
    "\r\n",
    "We'll call this function `findArea` and it will return a `double`. We do need to have the return type here, because find area will not be a constructor. With the `this` keyword, we can get access to the appropriate instance variables based on height, so the function takes no inputs. Our formula for finding the area of a triangle, is base times height divided by two, so we'll return `this.base*this.height/2`. \r\n",
    "\r\n",
    "We can access `this.base` and `this.height` here, because the base and height attributes are created within the triangle class. With the addition of this last behaviour, our class is defined. We could add attributes and behaviour later on, but this is where our blueprint will end for now. "
   ]
  },
  {
   "cell_type": "code",
   "execution_count": null,
   "metadata": {},
   "outputs": [],
   "source": [
    "public class Triangle {\r\n",
    "    // create instance variables \r\n",
    "    double base; \r\n",
    "    double height; \r\n",
    "    double sideLenOne; \r\n",
    "    double sideLenTwo; \r\n",
    "    double sideLenThree;\r\n",
    "\r\n",
    "    // add constructor and inputs\r\n",
    "    public Triangle(double base, double height, \r\n",
    "                    double sideLenOne, double sideLenTwo,\r\n",
    "                    double sideLenThree) {\r\n",
    "\r\n",
    "        // access attributes\r\n",
    "        this.base = base;\r\n",
    "        this.height = height;\r\n",
    "        this.sideLenOne = sideLenOne;\r\n",
    "        this.sideLenTwo = sideLenTwo;\r\n",
    "        this.sideLenThree = sideLenThree;\r\n",
    "    }\r\n",
    "\r\n",
    "    // Add another method\r\n",
    "    public double findArea() {\r\n",
    "        return (this.base * this.height)/2 ;\r\n",
    "    }\r\n",
    "\r\n",
    "}"
   ]
  },
  {
   "cell_type": "markdown",
   "metadata": {},
   "source": [
    "Next, we'll try creating some triangle instances with this blueprint."
   ]
  }
 ],
 "metadata": {
  "kernelspec": {
   "display_name": "Java",
   "name": "java"
  },
  "language_info": {
   "name": "java",
   "version": ""
  },
  "orig_nbformat": 2
 },
 "nbformat": 4,
 "nbformat_minor": 2
}