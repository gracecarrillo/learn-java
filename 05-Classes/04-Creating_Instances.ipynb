{
 "cells": [
  {
   "cell_type": "markdown",
   "metadata": {},
   "source": [
    "# Creating instances in Java\r\n",
    "\r\n",
    "Let's make some triangle instances. Continuing on our program from the last notebook, we'll move to another file. We'll create a `CreateInstances` class, with the `main` method, in order to do this. We could add a `main` method to our `Triangle` class, and run that file instead of this file, but I find the separation of our blueprints and the code we are actually running makes it a bit easier to understand at first. \r\n",
    "\r\n",
    "To create a triangle, we'll create a triangle variable and call the constructor method. We'll name the first triangle `triangleA` and give it the values `15`, `8`, `15`, `8`, and `17`. \r\n",
    "\r\n",
    "The second triangle we'll call `triangleB` and give it the values `3`, `2.598`, `3`, `3`, and `3`. "
   ]
  },
  {
   "cell_type": "code",
   "execution_count": null,
   "metadata": {},
   "outputs": [],
   "source": [
    "public class CreateInstances {\r\n",
    "\r\n",
    "    public static void main(String[] args) {\r\n",
    "        Triangle triangleA = new Triangle(15, 8, 15, 8, 17);\r\n",
    "        Triangle triangleB = new Triangle(3, 2.598, 3, 3,3);\r\n",
    "\r\n",
    "    }\r\n",
    "\r\n",
    "}"
   ]
  },
  {
   "cell_type": "markdown",
   "metadata": {},
   "source": [
    "Now we have two triangle instances. \r\n",
    "\r\n",
    "Let's add some breakpoints and walk through this program so we can see what's going on behind the scenes. \r\n",
    "\r\n",
    "We'll add a breakpoint just before `triangleA` is created, as well as a breakpoint before `triangleB` is created. Going back to the triangle class, we'll also add a breakpoint on this first line of the constructor. We'll be running our main class in debug mode. \r\n",
    "\r\n",
    "Our first stop is right before we create `triangleA`. We are passing `15` for the base, `8` for the height, `15`, `8` and `7` for each of the side lines. \r\n",
    "\r\n",
    "Let's continue. \r\n",
    "\r\n",
    "Now we are in the constructor itself, where we are creating the triangle instance that will be stored in the `triangleA` variable. Our parameters have the values we passed, `15` for the base, `8` for the height, and so on. \r\n",
    "\r\n",
    "In the following lines of code, in the constructor, we will assign these values to the attributes of the triangle to be created. All of our attributes for the new triangle have defaulted to the value zero.\r\n",
    "\r\n",
    "Now our program not only knows how to represent triangles, but it has two triangles represented within it. \r\n",
    "\r\n",
    "So what can we do with these new triangles? We added the behaviour of `findArea` to the triangle class in the last notebook, so we'll try using it on one of our triangles next."
   ]
  }
 ],
 "metadata": {
  "kernelspec": {
   "display_name": "Java",
   "name": "java"
  },
  "language_info": {
   "name": "java",
   "version": ""
  },
  "orig_nbformat": 2
 },
 "nbformat": 4,
 "nbformat_minor": 2
}