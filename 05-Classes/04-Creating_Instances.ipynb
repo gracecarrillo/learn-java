{
 "cells": [
  {
   "cell_type": "markdown",
   "metadata": {},
   "source": [
    "# Creating instances in Java\r\n",
    "\r\n",
    "Let's make some triangle instances. Continuing on our program from the last notebook, we'll move to another file. We'll create a `CreateInstances` class, with the `main` method, in order to do this. We could add a `main` method to our `Triangle` class, and run that file instead of this file, but I find the separation of our blueprints and the code we are actually running makes it a bit easier to understand at first. \r\n",
    "\r\n",
    "To create a triangle, we'll create a triangle variable and call the constructor method. We'll name the first triangle `triangleA` and give it the values `15`, `8`, `15`, `8`, and `17`. \r\n",
    "\r\n",
    "The second triangle we'll call `triangleB` and give it the values `3`, `2.598`, `3`, `3`, and `3`. "
   ]
  },
  {
   "cell_type": "code",
   "execution_count": null,
   "metadata": {},
   "outputs": [],
   "source": [
    "public class CreateInstances {\r\n",
    "\r\n",
    "    public static void main(String[] args) {\r\n",
    "        Triangle triangleA = new Triangle(15, 8, 15, 8, 17);\r\n",
    "        Triangle triangleB = new Triangle(3, 2.598, 3, 3,3);\r\n",
    "\r\n",
    "    }\r\n",
    "\r\n",
    "}"
   ]
  },
  {
   "cell_type": "markdown",
   "metadata": {},
   "source": [
    "Now we have two triangle instances. \r\n",
    "\r\n",
    "Let's add some breakpoints and walk through this program so we can see what's going on behind the scenes. \r\n",
    "\r\n",
    "We'll add a breakpoint just before `triangleA` is created, as well as a breakpoint before `triangleB` is created. Going back to the triangle class, we'll also add a breakpoint on this first line of the constructor. We'll be running our main class in debug mode. \r\n",
    "\r\n",
    "Our first stop is right before we create `triangleA`. We are passing `15` for the base, `8` for the height, `15`, `8` and `7` for each of the side lines. \r\n",
    "\r\n",
    "Let's continue. \r\n",
    "\r\n",
    "Now we are in the constructor itself, where we are creating the triangle instance that will be stored in the `triangleA` variable. Our parameters have the values we passed, `15` for the base, `8` for the height, and so on. \r\n",
    "\r\n",
    "In the following lines of code, in the constructor, we will assign these values to the attributes of the triangle to be created. All of our attributes for the new triangle have defaulted to the value zero.\r\n",
    "\r\n",
    "Now our program not only knows how to represent triangles, but it has two triangles represented within it. \r\n",
    "\r\n",
    "So what can we do with these new triangles? We added the behaviour of `findArea` to the triangle class in the last notebook, so we'll try using it on one of our triangles next."
   ]
  },
  {
   "cell_type": "markdown",
   "metadata": {},
   "source": [
    "## Instance methods vs Class methods\r\n",
    "\r\n",
    "Let's try calculating the area of each triangle. We store the area of `triangleA` in a variable called `triangleAArea`, and it will be a `double`, because that's what the `findArea` function returns. To get access to the `findArea` function, we use the dot operator `.` on the `triangleA` instance. \r\n",
    "\r\n",
    "So we'll write `triangleA.findArea();`.\r\n",
    "\r\n",
    "Now you might be thinking, why didn't we write `triangle.findArea();`? Isn't that what we did when we used `pow` on the `math` class with `math.pow();`? And yes, this is where a lot of people get confused. \r\n"
   ]
  },
  {
   "cell_type": "code",
   "execution_count": null,
   "metadata": {},
   "outputs": [],
   "source": [
    "public class CreateInstances {\r\n",
    "\r\n",
    "    public static void main(String[] args) {\r\n",
    "        Triangle triangleA = new Triangle(15, 8, 15, 8, 17);\r\n",
    "        Triangle triangleB = new Triangle(3, 2.598, 3, 3,3);\r\n",
    "\r\n",
    "        double triangleAArea = triangleA.findArea();\r\n",
    "        System.out.println(triangleAArea);\r\n",
    "\r\n",
    "        // Triangle.findArea()? --> Math.pow(2,3)?\r\n",
    "\r\n",
    "        \r\n",
    "    }\r\n",
    "\r\n",
    "}"
   ]
  },
  {
   "cell_type": "markdown",
   "metadata": {},
   "source": [
    "The reason we did `triangleA.findArea();` instead of `triangle.findArea();` is because in order to find the area of a given triangle, you have to have a triangle instance. You can't calculate the area of a triangle that doesn't exist yet. The implementation of the `findArea()` function relies on the attributes of a given triangle. The base might be 8 or 10 or 15. We don't know until the triangle is actually created. Because we have to have a triangle instance already created to use the `findArea` method, we can say `findArea` is an **instance method**. For `math.pow();`, we did not need to create an instance of `Math` in order to use the `pow` function. We just accessed the class and used the function we wanted. That's because `pow` is not an instance method. It is a static method or class method, because you do not need an instance of the class in order to use the function. Because of this, instance methods are often referred to as **non-static methods**, since you have to create an instance in order to use them. You do not need an instance created to use a static method. You can just reference the class. \r\n",
    " \r\n",
    "In a previous notebook, we used `.chatAt()` with a string, and we did need a string already created in order to use it. In our code, we wrote `studentFirstName.charAt(0)` and `studentLastName.charAt(0)`, where the `studentFirstName` and the `studentLastName` both evaluated to string values. In both of these cases, we used the dot `.` operator on an instance of a string in order to get access to the `.charAt()` method. Because we used the dot `.` operator on an instance and not the class name, `.charAt()` is an instance method, and not a class method.\r\n",
    " \r\n",
    "Understanding the difference between instance methods and class methods is very important as you continue to learn Java."
   ]
  }
 ],
 "metadata": {
  "kernelspec": {
   "display_name": "Java",
   "language": "java",
   "name": "java"
  },
  "language_info": {
   "name": "java",
   "version": ""
  },
  "orig_nbformat": 2
 },
 "nbformat": 4,
 "nbformat_minor": 2
}