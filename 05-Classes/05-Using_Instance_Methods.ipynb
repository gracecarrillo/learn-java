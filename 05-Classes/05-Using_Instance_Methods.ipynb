{
 "cells": [
  {
   "cell_type": "markdown",
   "metadata": {},
   "source": [
    "# Using instance methods in Java\r\n",
    "\r\n",
    "\r\n",
    "Let's get back to our triangle program. We've created two triangles, and we are using the dot `.` operator on `triangleA` to access the `findArea()` function, so that we can find the area of `triangleA`. \r\n",
    "\r\n",
    "Let's add a break point when we make the `findArea()` function call, and then on the first line of the `findArea()` implementation. \r\n",
    "\r\n",
    "Now, let's run in debug mode. \r\n",
    "\r\n",
    "We are about to call the `findArea()` method on `triangleA`. In the variables window, we can see that our `triangleA` instance is there, with its specific attribute values, and the `triangleB` instance is there, with its specific attribute values. We'll hit continue, and now we find ourselves in the `findArea()` implementation. \r\n",
    "\r\n",
    "For `triangleA`, the base attribute has the value `8`, and the height attribute has the value `15`. We used the this keyword to access `triangleA`'s specific base and height values, and used the base and height divided by two formula to calculate `triangleA`'s specific area. \r\n",
    "\r\n",
    "Hitting continue, and switching over to the console, we can see that `triangleA`'s area is `60`. We can calculate `triangleB`'s area as well. Of course, since `triangleB` has different attribute values for the base and height, we will get a different output for the area. \r\n",
    "\r\n",
    "So let's add a double variable called `triangleBArea`, and assign it to the value, `triangleB`.`findArea()` returns. \r\n",
    "\r\n",
    "Then we'll print out `triangleBArea`, with `System.out.println(triangleBArea);`. \r\n",
    "\r\n",
    "We'll remove the break point from the `triangleA` call, and move it to the `triangleB` call, and run this in debug mode. \r\n",
    "\r\n",
    "The first time we encounter `findArea()` is with the call from `triangleA`, so that's why we see a base of `8` and a height of `15`. If we hit continue, we'll stop right before `triangleB` calls `findArea()`. \r\n",
    "\r\n",
    "Hitting continue again, we are back in the `findArea()` function, and now we have `triangleB`'s attribute values for the base and height. These are used to calculate the final area, and hitting continue, we'll switch back to the console, and the final area is `3.897`. \r\n",
    "\r\n",
    "Awesome, we just used our custom-built `findArea()` instance method from the triangle class on two triangle instances."
   ]
  },
  {
   "cell_type": "code",
   "execution_count": null,
   "metadata": {},
   "outputs": [],
   "source": [
    "public class UsingInstances {\r\n",
    "\r\n",
    "    public static void main(String[] args) {\r\n",
    "        Triangle triangleA = new Triangle(15, 8, 15, 8, 17);\r\n",
    "        Triangle triangleB = new Triangle(3, 2.598, 3, 3,3);\r\n",
    "\r\n",
    "        double triangleAArea = triangleA.findArea();\r\n",
    "        System.out.println(triangleAArea);\r\n",
    "\r\n",
    "        double triangleBArea = triangleB.findArea();\r\n",
    "        System.out.println(triangleBArea);\r\n",
    "\r\n",
    "        // Triangle.findArea()? --> Math.pow(2,3)?\r\n",
    "\r\n",
    "\r\n",
    "    }\r\n",
    "\r\n",
    "}"
   ]
  }
 ],
 "metadata": {
  "kernelspec": {
   "display_name": "Java",
   "name": "java"
  },
  "language_info": {
   "name": "java",
   "version": ""
  },
  "orig_nbformat": 2
 },
 "nbformat": 4,
 "nbformat_minor": 2
}