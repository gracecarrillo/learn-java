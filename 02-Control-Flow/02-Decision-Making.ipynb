{
 "cells": [
  {
   "cell_type": "markdown",
   "metadata": {},
   "source": [
    "# Decision-making with if in Java\r\n",
    "\r\n",
    "Let's review our Fortune Teller program. There are two main parts to this program. \r\n",
    "\r\n",
    "- First, we ask the user to pick a number between one and 10. \r\n",
    "- Next, we output the user's fortune depending on which number is inputted. \r\n",
    "\r\n",
    "Let's implement this program. \r\n",
    "\r\n",
    "In the code below, we already have a print statement that asks the user to pick a number between 1 and 10. We also have a scanner that reads in the next int a user inputs with the `nextInt` operation. We save the output in a variable called `inputtedNum`. "
   ]
  },
  {
   "cell_type": "code",
   "execution_count": 1,
   "metadata": {},
   "outputs": [],
   "source": [
    "import java.util.Scanner;\r\n",
    "\r\n",
    "public class DecisionMaking {\r\n",
    "\r\n",
    "    public static void main(String[] args) {\r\n",
    "        System.out.println(\"Pick a number between 1 and 10\");\r\n",
    "        Scanner scanner = new Scanner(System.in);\r\n",
    "\r\n",
    "        int inputtedNum = scanner.nextInt();\r\n",
    "    }\r\n",
    "}"
   ]
  },
  {
   "cell_type": "markdown",
   "metadata": {},
   "source": [
    "Now, we have to make a decision in our program. If the `inputtedNum` is less than five, the program should output the good luck fortune. If the `inputtedNum` is equal to or greater than five, the program should print out the shoe selection fortune. Before, we were just using blocks but this is a specific type of control flow statement that starts with an `if` so we call it an **if statement**. \r\n",
    "\r\n",
    "An if statement is a control flow statement, where if the condition is true, it performs some kind of action. In this case, our condition is `inputtedNum` less than five. The condition will either be `true` or `false`. \r\n",
    "\r\n",
    "For our program, if an inputted number is less than five, meaning the condition is true, then we execute the code in the if block or in the curly brackets.In this case, if the `inputtedNum` is less than five, we would print out `\"Enjoy the good luck a friend brings you\"`. \r\n",
    "\r\n",
    "```\r\n",
    "if (inputtedNum < 5) {\r\n",
    "    // Print out \"Enjoy the good luck a friend brings you.\"\r\n",
    "}\r\n",
    "```\r\n",
    "\r\n",
    "This print statement would only be executed if the condition is true meaning `inputtedNum` is less than five. \r\n",
    "\r\n",
    "So what if `inputtedNum` is not less than five? \r\n",
    "\r\n",
    "Then the condition evaluates to false.\r\n",
    "\r\n",
    "When we mapped out our program in the previous notebook, we said that if `inputtedNum` was not less than five, then we wanted to print out the other fortune. To do this, we add an `else` statement to our `if` statement. \r\n",
    "\r\n",
    "```\r\n",
    "if (inputtedNum < 5) {\r\n",
    "    //\"Enjoy the good luck a friend brings you\")\r\n",
    "} else {\r\n",
    "    //\"Your shoe selection will make you very happy today\")\r\n",
    "}\r\n",
    "```\r\n",
    "\r\n",
    "The curly brackets with the else statement encompass the code that will be run if the condition is false. Similar to the if block, the code inside the else block only runs if the condition is false. We don't always have to have an else block associated with an if block but we do in this case because we want to perform an action if the condition is not true. \r\n",
    "\r\n",
    "Let's add an if statement to our code.\r\n",
    "\r\n",
    "We'll write if and then our condition, `inputtedNum < 5`, we'll create our if block with the curly brackets and then write `System.out.println`. After that, we'll write the else block."
   ]
  },
  {
   "cell_type": "code",
   "execution_count": 2,
   "metadata": {},
   "outputs": [],
   "source": [
    "import java.util.Scanner;\r\n",
    "\r\n",
    "public class DecisionMaking {\r\n",
    "\r\n",
    "    public static void main(String[] args) {\r\n",
    "        System.out.println(\"Pick a number between 1 and 10\");\r\n",
    "        Scanner scanner = new Scanner(System.in);\r\n",
    "\r\n",
    "        int inputtedNum = scanner.nextInt();\r\n",
    "\r\n",
    "        if (inputtedNum < 5) {\r\n",
    "            System.out.println(\"Enjoy the good luck a friend brings you\");\r\n",
    "        } else {\r\n",
    "            System.out.println(\"Your shoe selection will make you very happy today\");\r\n",
    "        }\r\n",
    "    }\r\n",
    "}"
   ]
  },
  {
   "cell_type": "markdown",
   "metadata": {},
   "source": [
    "And there we have our `if else`. \r\n",
    "\r\n",
    "Only the `if` block or the `else` block will be run in an execution of the program because the condition cannot be `true` and `false` at the same time. The condition can be true or it can be false but only one fortune will be printed. This means that the code inside the `if` block doesn't know about the code inside the `else` block and the code inside the `else` block doesn't know about the code inside the `if` block. This will become more important later on. \r\n",
    "\r\n",
    "Let's run the program. We'll click the play button, pick a number between 1 and 10. We'll pick 3. We get the first fortune. Enjoy the good luck a friend brings you and that's because three is less than five. \r\n",
    "\r\n",
    "We run the program again and choose five. In this case, five is not less than five, it's equal to five and so we get this second fortune, `\"your shoe selection will make you very happy today\"`. \r\n",
    "\r\n",
    "Let's try one more time. Let's put in nine as our input and we get that second fortune again because nine is not less than five. This condition is false. \r\n",
    "\r\n",
    "Next, we'll take a look at a concept called scope and show how it relates to `if` statements."
   ]
  },
  {
   "cell_type": "markdown",
   "metadata": {},
   "source": [
    "## Understanding scope in Java\r\n",
    "\r\n",
    "In the Fortune Teller program, during the program's execution, only the `if` block or the `else` block were executed. All of this had to do with the topic called **scope**. \r\n",
    "\r\n",
    "Scope refers to the region of the program where a piece of code is accessible or in which it can be used. Every time we use curly braces in Java, we are creating a block in the program. This is why the `if` block and the `else` block are separate. They are in different sets of curly brackets. Why does this matter? \r\n",
    "\r\n",
    "Let's say I created an int variable named `favouriteNumber`, with the value `5` in the `if` block. This variable scope is within the block in which it was created. That's where the variable is accessible and can be used. I can reference it or change its value anywhere inside the `if` block. However, since it was not created in the curly braces of the `else` block, it cannot be used in the `else` block, because the `else` block is outside this variable's scope. \r\n",
    "\r\n",
    "Now, let's say we created a string variable called `favouriteFood` outside the `if-else` block in the main function and gave it the value, `\"pizza\"`. Since `favouriteFood` is created outside the `if-else` block in the parent set of parentheses, this variable can be accessed and assigned a new value within both the `if` and `else` block. The `favouriteFood` scope, or where `favouriteFood` can be accessed, is anywhere within the curly braces it was created in. \r\n",
    "\r\n",
    "In the next notebook, we'll take a look at some other types of control flow statements."
   ]
  }
 ],
 "metadata": {
  "kernelspec": {
   "display_name": "Java",
   "language": "java",
   "name": "java"
  },
  "language_info": {
   "name": "java",
   "version": ""
  },
  "orig_nbformat": 2
 },
 "nbformat": 4,
 "nbformat_minor": 2
}