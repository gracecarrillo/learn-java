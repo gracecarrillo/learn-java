{
 "cells": [
  {
   "cell_type": "markdown",
   "metadata": {},
   "source": [
    "# While loops\r\n",
    "\r\n",
    "If statements aren't the only way we can add decision making to our programs. We also have loops. \r\n",
    "\r\n",
    "A loop is similar to an if statement, except that it allows code to be executed repeatedly, based on a Boolean condition, instead of just one time.\r\n",
    "\r\n",
    "There are several different types of loops in Java, but the one we'll be focusing on is the **while loop**. A while loop looks like this:\r\n",
    "\r\n",
    "<br><br>\r\n",
    "\r\n",
    "<p align=\"center\">\r\n",
    "  <img width=\"70%\" height=\"70%\" src=\"img\\while-loop.png\">\r\n",
    "</p>\r\n",
    "\r\n",
    "<br><br>\r\n",
    "\r\n",
    "We start at the Start, and then follow the arrow to check a condition. If that condition evaluates to `true`, we execute a series of statements, and then check the condition again. If that condition is `false`, we exit the loop, and continue to the rest of the code. \r\n",
    "\r\n",
    "On your smartphone, you've probably listened to music, and if you find a song you like, you put it on repeat. When a song is on repeat, it plays over and over again until you take it off repeat. We can represent this type of functionality in a Java program. \r\n",
    "\r\n",
    "Filling in the condition of the while loop below, we can say our condition is: is current song on repeat? For the statements to execute, if the condition is true, we can print, `\"Playing same song on repeat\"` and give an option for the user to take the song off of repeat. If the condition is false, we can print, `\"Playing next song.\"` \r\n",
    "\r\n",
    "Now, if is current song on repeat is never `true`, then playing same song again will never be printed. We'll never repeat the song. If the user never takes the song off repeat, then the condition will always be `true`, and playing same song again will be continuously printed. That's why we call it a `while loop`. While the condition is true, keep running these given statements.\r\n",
    "\r\n",
    "<br><br>\r\n",
    "\r\n",
    "<p align=\"center\">\r\n",
    "  <img width=\"70%\" height=\"70%\" src=\"img\\while-loop-2.png\">\r\n",
    "</p>\r\n",
    "\r\n",
    "<br><br>\r\n",
    "\r\n",
    "Now that's while loop. Let's try implementing it with Java code."
   ]
  },
  {
   "cell_type": "markdown",
   "metadata": {},
   "source": [
    "## While loop implementation\r\n",
    "\r\n",
    "Let's create a while loop in Java. In the diagram, while the current song is on repeat, we play the song again. If the current song is not on repeat when we check the while loop condition, we exit the loop and play the next song. If the user never takes the song off of repeat, then the current song will play forever. We only exit the loop if the user takes the song off of repeat. \r\n",
    "\r\n",
    "Let's jump to the code. \r\n",
    "\r\n",
    "The first thing we do is create a scanner to get us set up for user input. We also have a Boolean variable that represents if the current song is on repeat and it equals true. "
   ]
  },
  {
   "cell_type": "code",
   "execution_count": 1,
   "metadata": {},
   "outputs": [],
   "source": [
    "import java.util.Scanner;\r\n",
    "\r\n",
    "public class WhileLoop {\r\n",
    "\r\n",
    "    public static void main(String[] args) {\r\n",
    "        Scanner input = new Scanner(System.in);\r\n",
    "        boolean isOnRepeat = true;\r\n",
    "    }\r\n",
    "}"
   ]
  },
  {
   "cell_type": "markdown",
   "metadata": {},
   "source": [
    "Now, for the while loop. We want to say while our song is on repeat, meaning `isOnRepeat` is `true`, we want to run a series of statements. To do this we'll use the keyword while and then our condition in parentheses. Then we'll use open/close curly brackets to create the while block for the statements we want to run while the condition is `true`.\r\n",
    "\r\n",
    "Let's add those statements."
   ]
  },
  {
   "cell_type": "code",
   "execution_count": null,
   "metadata": {},
   "outputs": [],
   "source": [
    "import java.util.Scanner;\r\n",
    "\r\n",
    "public class WhileLoop {\r\n",
    "\r\n",
    "    public static void main(String[] args) {\r\n",
    "        Scanner input = new Scanner(System.in);\r\n",
    "        boolean isOnRepeat = true;\r\n",
    "        while(isOnRepeat) {\r\n",
    "            System.out.println(\"Playing current song\");\r\n",
    "            System.out.println(\"Would you like to take this song off of repeat? If so, answer yes\");\r\n",
    "            String userInput = input.next();\r\n",
    "\r\n",
    "            if(userInput.equals(\"yes\")) {\r\n",
    "                isOnRepeat = false;\r\n",
    "            }\r\n",
    "        }\r\n",
    "        System.out.println(\"Playing next song\");\r\n",
    "    }\r\n",
    "}"
   ]
  },
  {
   "cell_type": "markdown",
   "metadata": {},
   "source": [
    "In our code, we start by printing out that the current song is playing. On the next line, we ask the user if they want to take the song off of repeat. With these print statements done, we get access to the user's input with `input.next()` and save it in a variable called `userInput`. \r\n",
    "\r\n",
    "Then, we use an if statement to check if the user's answer is yes, meaning we should change `isOnRepeat` to `false`. For the condition we write `userInput.equals(\"yes\")`. Equals is a string operation we can use to check if the user input has the exact value yes. In the curly braces, we set `isOnRepeat` to `false`. \r\n",
    "\r\n",
    "All right, we're almost done. We just need to add a print statement for when the program exits the loop that says `\"Playing next song\"`. So after the while block we write `System.out.println(\"Playing next song\")`. \r\n",
    "\r\n",
    "We save this and run the program. \r\n",
    "\r\n",
    "It should print `Playing current song. Would you like to take this song off of repeat?` If so, answer `yes`. \r\n",
    "\r\n",
    "We say `yes`, we want to move on to the next song and it says `\"Playing next song\"`. \r\n",
    "\r\n",
    "When we go went the while loop, `userInput` did equal yes and so `isOnRepeat` was set to `false`, this means on the next check, `isOnRepeat` was `false` and we proceeded to play the next song. \r\n",
    "\r\n",
    "Let's run it again. \r\n",
    "\r\n",
    "Do we want to take the current song off of repeat? We say `no` and play the current song again. \r\n",
    "\r\n",
    "Do we want to take it off repeat now? No. \r\n",
    "\r\n",
    "In this case, `isOnRepeat` remains `true`, the input is never equaling yes and so `isOnRepeat` is never set to `false`. \r\n",
    "\r\n",
    "We could say no again. And then, finally say yes and that will set `isOnRepeat` to `false` and will play the next song."
   ]
  }
 ],
 "metadata": {
  "kernelspec": {
   "display_name": "Java",
   "language": "java",
   "name": "java"
  },
  "language_info": {
   "name": "java",
   "version": ""
  },
  "orig_nbformat": 2
 },
 "nbformat": 4,
 "nbformat_minor": 2
}