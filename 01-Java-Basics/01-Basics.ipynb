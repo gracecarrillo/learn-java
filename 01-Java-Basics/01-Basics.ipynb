{
 "cells": [
  {
   "cell_type": "markdown",
   "metadata": {},
   "source": [
    "# Getting Started \r\n",
    "\r\n",
    "We are ready to write our first Java program. But how do we write a Java program? \r\n",
    "\r\n",
    "Java is verbose programming language, so there is some boilerplate code that we add with every program. When we say verbose, we mean that there are a lot of words we have to write, compared to other programming languages, in order to get a simple program to work. \r\n",
    "\r\n",
    "For beginners, I think this is a good thing because it reveals concepts you may not have known, and it makes what you are trying to do very verbosely clear.\r\n",
    "\r\n",
    "Every Java program has to have a class, and in fact, all Java code must be inside a class. We'll talk more about classes later in the course, but we'll be creating a class and calling it `HelloWorld`. We'll write `public class HelloWorld`, the name of our class, and then open and close curly brackets. \r\n",
    " \r\n",
    "The idea of `Hello World` is a bit of a tradition in computer science. When you are first learning a new language, or framework, or technology, all you want to do is make the program output `Hello World`, and that's exactly what we'll be doing in this lesson. \r\n",
    " \r\n",
    "Let's put some more code in between the curly brackets. We'll write `public static void main(String[] Args)`, and then open and close curly brackets. This may look a bit overwhelming, but don't worry. All we need to know about this piece of code, is that it's called the **main function**, and it's the entry point to our program. This means any code I put between the inner curly brackets will be executed by the program. \r\n",
    " \r\n",
    "Everything we've written so far is boilerplate, or stuff we must have for any Java program to run. The thing that will make our program unique, is what we add in those curly brackets. As we said before, we want our program to output a `Hello World` statement. We can do that by adding the following line of code: \r\n",
    " \r\n",
    "    ```\r\n",
    "    System.out.println (\"Hello World! It's me, Grace!\");\r\n",
    "    ```\r\n",
    "\r\n",
    "The `System.out.println` portion, gets us access to the outputting, or printing functionality of Java. And in between the parentheses we write what we want to output. In this case, hello, it's me Grace! You might be wondering what `public` means, and how it relates to Java, but we will talk about what `void` and `static` mean later. \r\n",
    "\r\n",
    "With our code done, we'll save this file by clicking file, and then save. We'll name this file `HelloWorld`, and give it the dot Java extension because it is a Java file. \r\n",
    "\r\n",
    "Java conventions require the file name to be the same as the class name, so make sure the file name and the class name match. You can save this anywhere you'd like on your computer. \r\n",
    "\r\n",
    "Alright, let's execute and run our program."
   ]
  },
  {
   "cell_type": "code",
   "execution_count": 2,
   "metadata": {},
   "outputs": [],
   "source": [
    "public class HelloWorld { //main function starts here\r\n",
    "    public static void main(String[] args){\r\n",
    "      System.out.println(\"Hello world! It's me, Grace!!\");\r\n",
    "    }//End of main function\r\n",
    "  }//End of hello Class"
   ]
  }
 ],
 "metadata": {
  "kernelspec": {
   "display_name": "Java",
   "language": "java",
   "name": "java"
  },
  "language_info": {
   "codemirror_mode": "java",
   "file_extension": ".jshell",
   "mimetype": "text/x-java-source",
   "name": "Java",
   "pygments_lexer": "java",
   "version": "11.0.10+9"
  },
  "metadata": {
   "interpreter": {
    "hash": "63fd5069d213b44bf678585dea6b12cceca9941eaf7f819626cde1f2670de90d"
   }
  },
  "orig_nbformat": 2
 },
 "nbformat": 4,
 "nbformat_minor": 2
}