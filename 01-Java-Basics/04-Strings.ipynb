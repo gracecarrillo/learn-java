{
 "cells": [
  {
   "cell_type": "markdown",
   "metadata": {},
   "source": [
    "# Strings in Java\r\n",
    "\r\n",
    "\r\n",
    "So far, we've learned about a few data types. These data types, `int`, `boolean`, `double`, `char`, were primitive types. These are great for storing a whole number, true/false values, a single letter or symbol, but what if you wanted to store and reference some text, something that requires more than just a single character? \r\n",
    "\r\n",
    "We'll now be looking at the second overarching category of Java data types called reference types. And our first reference type is called a `string`. A `string` is a sequence of ordered characters. Before, we could represent a single character with a `char`, but now we can represent a word or a person's name with the `string` data type. \r\n",
    "\r\n",
    "To create a `string`, we surround the series of characters with quotation marks. This represents a `string` value. To create a `string` variable, we just state the data type `string`, give the variable a label, and then use the assignment operator to assign the variable the `string` value. For example: \r\n",
    "\r\n",
    "```\r\n",
    "string myFavouriteWord = \"food\";\r\n",
    "```\r\n",
    "\r\n",
    " We should also note that the order of characters does matter. So let's say we have a `string` with `\"desserts,\"` and then we have a different `string` with `\"stressed.\"` Although these two strings have the same letters, they would not be considered as having equal value, because the letters are in different orders. \r\n",
    "\r\n",
    "So what makes a string a reference type? Unlike primitive types and the other data types we've looked at, a string is built out of characters. It is not a basic data type. It is created out of organising `char` data pieces in a significant way. \r\n",
    "\r\n",
    "Now that we know about strings, let's create a string in Java. \r\n",
    "\r\n",
    "Using our program from the last notebook, we'll add a `studentName` variable that holds the student's name. We'll write `String studentName`, and in this case, the student's name will be `Molly Huq`. With the variable created, we'll print it out with `System.out.println` and the variable name `studentName`. We'll run this in the console. "
   ]
  },
  {
   "cell_type": "code",
   "execution_count": 3,
   "metadata": {},
   "outputs": [],
   "source": [
    "public class Strings {\r\n",
    "    public static void main(String[] args){\r\n",
    "        int studentAge = 21; // your first variable\r\n",
    "        double averageScore = 85.5; // your second variable\r\n",
    "        char studentFirstInitial = 'G'; // your third variable\r\n",
    "        char studentLastInitial = 'C'; // your fourth variable\r\n",
    "        boolean hasPerfectAttendence = true; // your fourth variable\r\n",
    "        String studentName = \"Molly Huq\"; // your fifth variable\r\n",
    "\r\n",
    "        System.out.println(studentAge);\r\n",
    "        System.out.println(averageScore);\r\n",
    "        System.out.println(studentFirstInitial);\r\n",
    "        System.out.println(studentLastInitial);\r\n",
    "        System.out.println(hasPerfectAttendence);\r\n",
    "        System.out.println(studentName);\r\n",
    "    }\r\n",
    "}"
   ]
  },
  {
   "cell_type": "markdown",
   "metadata": {},
   "source": [
    "And here we see `Molly Huq`. Notice in the value of `studentName`, I included the student's first and last name. This is a design choice. Instead, we could create two separate strings, one holding the first name and another holding the last name. Let's go ahead and do that. Instead of `studentName`, we'll write `studentFirstName`, and we'll move `Huq` to `String studentLastName` and have `Huq` be the value. Now `studentName` no longer exists, but `studentFirstName` does, so we'll print out the value of `studentFirstName`, as well as the value of `studentLastName`. We'll save this. Run it. And we see `Molly` and `Huq` separate in the console. "
   ]
  },
  {
   "cell_type": "code",
   "execution_count": 4,
   "metadata": {},
   "outputs": [],
   "source": [
    "public class Strings {\r\n",
    "    public static void main(String[] args){\r\n",
    "        int studentAge = 21; // your first variable\r\n",
    "        double averageScore = 85.5; // your second variable\r\n",
    "        char studentFirstInitial = 'G'; // your third variable\r\n",
    "        char studentLastInitial = 'C'; // your fourth variable\r\n",
    "        boolean hasPerfectAttendence = true; // your fourth variable\r\n",
    "        String studentFirstName = \"Molly\"; // your fifth variable\r\n",
    "        String studentLastName = \"Huq\"; // your sixth variable\r\n",
    "\r\n",
    "\r\n",
    "        System.out.println(studentAge);\r\n",
    "        System.out.println(averageScore);\r\n",
    "        System.out.println(studentFirstInitial);\r\n",
    "        System.out.println(studentLastInitial);\r\n",
    "        System.out.println(hasPerfectAttendence);\r\n",
    "        System.out.println(studentFirstName);\r\n",
    "        System.out.println(studentLastName);\r\n",
    "    }\r\n",
    "}"
   ]
  },
  {
   "cell_type": "markdown",
   "metadata": {},
   "source": [
    "## Using indexes with Strings\r\n",
    "\r\n",
    "Now that we have the student's first and last name separated we can extract the student's first initial from the first name and last initial from the last name. All we need to do is somehow get the first letter of the first name and the first letter of the last name to create each initial.\r\n",
    "\r\n",
    "Earlier we talked about how the ordering of the letters within a string matters. And this is one place where that comes into play. For the string `Molly`, we say `M` is at index or location zero. `o` is at index one, `l` is at index two, `l` is at index three and `y` is at index four. This means to extract the first initial of the first name we'll want to access the character at index zero, or the zeroth slot in the string. To do this we can use a special string operator to access the letters inside first name. To get the first character of the first name we can use an operation called `charAt`. \r\n",
    "\r\n",
    "`CharAt` allows us to access a character at a specific location within a string. It takes one input and that is the index or location of the character we want to access. Going back to the code, we can change the value of `studentFirstInitial` to using `charAt` on `studentFirstName`. \r\n",
    "\r\n",
    "We'll write `studentFirstName` and then to use the `charAt` operation, we'll write `.charAt`. Next we'll add the location we want to access within `StudentFirstName` which is zero for the first initial. We'll save this and run it. "
   ]
  },
  {
   "cell_type": "code",
   "execution_count": 5,
   "metadata": {},
   "outputs": [],
   "source": [
    "public class Strings {\r\n",
    "    public static void main(String[] args){\r\n",
    "        int studentAge = 21; // your first variable\r\n",
    "        double averageScore = 85.5; // your second variable\r\n",
    "        char studentFirstInitial = studentFirstName.charAt(0); // your third variable\r\n",
    "        char studentLastInitial = 'C'; // your fourth variable\r\n",
    "        boolean hasPerfectAttendence = true; // your fourth variable\r\n",
    "        String studentFirstName = \"Molly\"; // your fifth variable\r\n",
    "        String studentLastName = \"Huq\"; // your sixth variable\r\n",
    "\r\n",
    "\r\n",
    "        System.out.println(studentAge);\r\n",
    "        System.out.println(averageScore);\r\n",
    "        System.out.println(studentFirstInitial);\r\n",
    "        System.out.println(studentLastInitial);\r\n",
    "        System.out.println(hasPerfectAttendence);\r\n",
    "        System.out.println(studentFirstName);\r\n",
    "        System.out.println(studentLastName);\r\n",
    "    }\r\n",
    "}"
   ]
  },
  {
   "cell_type": "markdown",
   "metadata": {},
   "source": [
    "We see `studentFirstInitial` is the second to last thing to be printed out and we see `M` in our console. Exactly what we expect. \r\n",
    "\r\n",
    "Looking at the value of `studentFirstInitial` we write `studentFirstName` because that's the variable that holds the string we want to access the character from. We write dot because the operation we want to use is a string operation and we get it for free with the string data type. Then we write `charAt` because this is the operation we want to use. And finally we add our input which is zero because we want to access the character at the zeroth index. The output of this operation is `M` and that's what saved to the `studentFirstInitial` variable. \r\n",
    "\r\n",
    "\r\n",
    "Let's do the same for `studentLastInitial`. \r\n",
    "\r\n",
    "We'll write `studentLastName` because we want the first initial of the last name and use `charAt` to get that first initial of the last name with zero. We'll save this, run it."
   ]
  },
  {
   "cell_type": "code",
   "execution_count": 6,
   "metadata": {},
   "outputs": [],
   "source": [
    "\r\n",
    "public class Strings {\r\n",
    "    public static void main(String[] args){\r\n",
    "        int studentAge = 21; // your first variable\r\n",
    "        double averageScore = 85.5; // your second variable\r\n",
    "        String studentFirstName = \"Molly\"; // your third variable\r\n",
    "        String studentLastName = \"Huq\"; // your fourth variable\r\n",
    "        char studentFirstInitial = studentFirstName.charAt(0); // your fifth variable\r\n",
    "        char studentLastInitial = studentLastName.charAt(0); // your sixth variable\r\n",
    "        boolean hasPerfectAttendence = true; // your seventh variable\r\n",
    "\r\n",
    "\r\n",
    "        System.out.println(studentAge);\r\n",
    "        System.out.println(averageScore);\r\n",
    "        System.out.println(studentFirstInitial);\r\n",
    "        System.out.println(studentLastInitial);\r\n",
    "        System.out.println(hasPerfectAttendence);\r\n",
    "        System.out.println(studentFirstName);\r\n",
    "        System.out.println(studentLastName);\r\n",
    "    }\r\n",
    "}"
   ]
  },
  {
   "cell_type": "markdown",
   "metadata": {},
   "source": [
    "In our console, we get `H` as expected. Great, we just extracted data from another data piece. A student's initials from a student's name. We also learned that the concept of a data type consists not only of the different values it can store, but also the different operations we can use with it. For example our string data type has the `charAt` operation. There are other string operations like `charAt` that exist that can only be performed with strings but they are out of the scope for this workshop."
   ]
  },
  {
   "cell_type": "markdown",
   "metadata": {},
   "source": [
    "## Concatenating strings in Java\r\n",
    "\r\n",
    "So far, we've printed out the string `\"Hello world\"` individually, and a few variables individually. Now we are going to learn how to print them together in the same line. To do this, we need to combine string values with variables that hold strings in a print statement. Using the same example we've been working with, we can print out a student's full name, and say that student has an average score of `X`, with `X` being the student's current score. \r\n",
    "\r\n",
    "In the code, we'll write `System.out.println`, and then access the value of the student's first name, with `studentFirstName`. To add on the last name, we'll add a plus sign for concatenation, combining the value of these two strings. Then we'll type the variable that holds the student's last name, `studentLastName`. If we put the student's first and last name together like this, there will be no space between the first and last name when it is printed out to the user. We can add a space by adding a literal string, so a string that is not evaluated from a variable, with a space. \r\n",
    "\r\n",
    "We'll want to concatenate the other side, so we'll add a plus button between the space and `studentLastName`. For the next part of the print statement, we want to add, `has a Score of`, and then the student's Score. We'll add on the literal string of `\"has a Score of,\"` with the plus sign, and then on the other side, we'll also concatenate the student's Score. This value is stored in the `averageScore` variable. \r\n",
    "\r\n",
    "We'll save this, run the program, and in the console, we see the first and last name, `Molly Huq has a Score of`, and then the student's Score, `85.5`. "
   ]
  },
  {
   "cell_type": "code",
   "execution_count": 10,
   "metadata": {},
   "outputs": [],
   "source": [
    "public class Strings {\r\n",
    "    public static void main(String[] args){\r\n",
    "        double averageScore = 85.5;\r\n",
    "        String studentFirstName = \"Molly\"; \r\n",
    "        String studentLastName = \"Huq\";\r\n",
    "\r\n",
    "        System.out.println(studentFirstName + \" \" +\r\n",
    "                studentLastName + \" has a Score of \" + averageScore);\r\n",
    "    }\r\n",
    "}"
   ]
  },
  {
   "cell_type": "markdown",
   "metadata": {},
   "source": [
    "Next, we'll take a deeper look at how we input and output strings to the user."
   ]
  }
 ],
 "metadata": {
  "kernelspec": {
   "display_name": "Java",
   "language": "java",
   "name": "java"
  },
  "language_info": {
   "name": "java",
   "version": ""
  },
  "orig_nbformat": 2
 },
 "nbformat": 4,
 "nbformat_minor": 2
}