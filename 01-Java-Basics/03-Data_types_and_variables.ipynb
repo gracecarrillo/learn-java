{
 "cells": [
  {
   "cell_type": "markdown",
   "metadata": {},
   "source": [
    "# Data types and variables in Java\r\n",
    "\r\n",
    "\r\n",
    "Let's create some data in Java. \r\n",
    "\r\n",
    "In this notebook, we'll be creating a few pieces of data that could represent attributes of a given GIC student. Our program will have representations for a students age, average score, first initial, last initial, as well as if the student has had perfect attendance so far this year.\r\n",
    "\r\n",
    " Before we get to the code, let's assign a Java data type to each of these pieces of data. As we mentioned in the last notebook, an age could be represented in Java with either an `int` or a `double` depending on how exact we want to be. In this case, we'll be using an `int` to represent the age. \r\n",
    " \r\n",
    " Potential values for a students average score could be 85.5 or 52.7 or 94.0. These are all decimal values, so the data type for a students average score would be `double`. \r\n",
    " \r\n",
    " A students first initial and last initial are each a single character, so both of these would be represented by the data type `char`.\r\n",
    " \r\n",
    " A student can either have perfect attendance or not have perfect attendance, there's no in between. So has perfect attendance should be a `boolean`. \r\n",
    " \r\n",
    " Let's try creating some Java code that represents these pieces of data. \r\n",
    " \r\n",
    " We could represent a students age by just writing 21. Then we could represent a students average score with just 85.5. However, if you try running this, you'll get errors. "
   ]
  },
  {
   "cell_type": "code",
   "execution_count": 8,
   "metadata": {},
   "outputs": [
    {
     "ename": "CompilationException",
     "evalue": "",
     "output_type": "error",
     "traceback": [
      "\u001b[1m\u001b[30m|   \u001b[1m\u001b[30m        \u001b[0m\u001b[1m\u001b[30m\u001b[41m21\u001b[0m\u001b[1m\u001b[30m; // can't just write it like this!\u001b[0m",
      "\u001b[1m\u001b[31mnot a statement\u001b[0m",
      "",
      "\u001b[1m\u001b[30m|   \u001b[1m\u001b[30m        \u001b[0m\u001b[1m\u001b[30m\u001b[41m85.5\u001b[0m\u001b[1m\u001b[30m;  // you'll get errors!\u001b[0m",
      "\u001b[1m\u001b[31mnot a statement\u001b[0m",
      ""
     ]
    }
   ],
   "source": [
    "public class DataTypes {\r\n",
    "    public static void main(String[] args){\r\n",
    "        21; // can't just write it like this!\r\n",
    "        85.5;  // you'll get errors!\r\n",
    "    }\r\n",
    "}"
   ]
  },
  {
   "cell_type": "markdown",
   "metadata": {},
   "source": [
    "What we've written are technically numbers and pieces of data, but in Java we save data in something called a variable. A variable is a way to label data and reference it later in your program.\r\n",
    "\r\n",
    "Instead of saying 21, we can create a label, say student age, and then assign a value to it, in this case, 21. We'll still get an error here, and that's because we need to add a data type to the variable. We can add `int` at the beginning of the line and then a semicolon at the end of the line to end the statement, and all of our errors are gone. "
   ]
  },
  {
   "cell_type": "code",
   "execution_count": 9,
   "metadata": {},
   "outputs": [],
   "source": [
    "public class DataTypes {\r\n",
    "    public static void main(String[] args){\r\n",
    "        int studentAge = 21; // errors gone!\r\n",
    "    }\r\n",
    "}"
   ]
  },
  {
   "cell_type": "markdown",
   "metadata": {},
   "source": [
    "Congrats, you just created your first variable in Java. As you can see, a variable has a data type, label, and value. In this case, the data type is `int`, the label is student age, and the value is 21. The equal sign is an assignment operator that assigns the `int` variable with the label, `studentAge`, and the value `21`. \r\n",
    "\r\n",
    "Let's create the next piece of data in Java, a students average score. We need to create another variable, and we decided before that that data type would be `double`. So let's write `double` and give the variable the label `averageScore`, and then we'll assign it the value `85.5` and add a semicolon to end the statement. "
   ]
  },
  {
   "cell_type": "code",
   "execution_count": 4,
   "metadata": {},
   "outputs": [],
   "source": [
    "public class DataTypes {\r\n",
    "    public static void main(String[] args){\r\n",
    "        int studentAge = 21; // your first variable\r\n",
    "        double averageScore = 85.5; // your second variable\r\n",
    "    }\r\n",
    "}"
   ]
  },
  {
   "cell_type": "markdown",
   "metadata": {},
   "source": [
    "Second variable, done. Three more to go. Next we'll represent a students first initial with the data type `char` `studentFirstInitial` as the label, and give it the value `'G'`. We'll do something similar for the students last initial with the data type `char` label `studentLastInitial` and give it the value `'C'`."
   ]
  },
  {
   "cell_type": "code",
   "execution_count": 6,
   "metadata": {},
   "outputs": [],
   "source": [
    "public class DataTypes {\r\n",
    "    public static void main(String[] args){\r\n",
    "        int studentAge = 21; // your first variable\r\n",
    "        double averageScore = 85.5; // your second variable\r\n",
    "        char studentFirstInitial = 'G'; // your third variable\r\n",
    "        char studentLastInitial = 'C'; // your fourth variable\r\n",
    "    }\r\n",
    "}"
   ]
  },
  {
   "cell_type": "markdown",
   "metadata": {},
   "source": [
    "That's my last initials. You can use yours if you want! In fact, for all of these variables, you could put a different value as long as it can still be represented by that given data type. For example, you couldn't put a letter or symbol as the value of student age, but you could put another whole number, say 27 instead of 21. \r\n",
    "\r\n",
    "The last piece of data we want to represent is has perfect attendance. Like the other variables, we'll write the data type, `boolean`, the label, `hasPerfectAttendence`, and then give it the value `True`."
   ]
  },
  {
   "cell_type": "code",
   "execution_count": 3,
   "metadata": {},
   "outputs": [],
   "source": [
    "public class DataTypes {\r\n",
    "    public static void main(String[] args){\r\n",
    "        int studentAge = 21; // your first variable\r\n",
    "        double averageScore = 85.5; // your second variable\r\n",
    "        char studentFirstInitial = 'G'; // your third variable\r\n",
    "        char studentLastInitial = 'C'; // your fourth variable\r\n",
    "        boolean hasPerfectAttendence = true; // your fourth variable\r\n",
    "    }\r\n",
    "}"
   ]
  },
  {
   "cell_type": "markdown",
   "metadata": {},
   "source": [
    "You may notice that our variable names are grayed out, that's because although we've created a piece of data and represented it in Java, we don't use or reference it in our program. \r\n",
    "\r\n",
    "One way we could reference it is by printing out the value of the variable to the console. \r\n",
    "\r\n",
    "We'll write `System.out.println`, and instead of adding quotes, we'll just write the name of the variable. Since `studentAge` has the value `21`, we'll print out `21` to the console. We'll save this and then click the play button or you could left click and hit Run Main.main, and we get `21` in our console. Let's try this with the other variables. We'll write `System.out.println(averageScore)`, `System.out.println(studentFirstInitial)`, `System.out.println(studentLastInitial)`, and then `System.out.println(hasPerfectAttendence)`. \r\n",
    "\r\n",
    "We'll run this again and we get `21`, `85.5`, `'G'`, `'C'`, and `true` as expected in the console."
   ]
  },
  {
   "cell_type": "code",
   "execution_count": 3,
   "metadata": {},
   "outputs": [],
   "source": [
    "public class DataTypes {\r\n",
    "    public static void main(String[] args){\r\n",
    "        int studentAge = 21; // your first variable\r\n",
    "        double averageScore = 85.5; // your second variable\r\n",
    "        char studentFirstInitial = 'G'; // your third variable\r\n",
    "        char studentLastInitial = 'C'; // your fourth variable\r\n",
    "        boolean hasPerfectAttendence = true; // your fourth variable\r\n",
    "\r\n",
    "        System.out.println(studentAge);\r\n",
    "        System.out.println(averageScore);\r\n",
    "        System.out.println(studentFirstInitial);\r\n",
    "        System.out.println(studentLastInitial);\r\n",
    "        System.out.println(hasPerfectAttendence);\r\n",
    "    }\r\n",
    "}"
   ]
  }
 ],
 "metadata": {
  "kernelspec": {
   "display_name": "Java",
   "language": "java",
   "name": "java"
  },
  "language_info": {
   "name": "java",
   "version": ""
  },
  "orig_nbformat": 3
 },
 "nbformat": 4,
 "nbformat_minor": 2
}