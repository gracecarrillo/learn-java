{
 "cells": [
  {
   "cell_type": "markdown",
   "metadata": {},
   "source": [
    "# Primitive data types\r\n",
    "\r\n",
    "In computer science, data is information that is stored or processed by a computer. While that might seem fairly abstract, there are many data points we use in everyday life. Your name, your age, the number of beers in your fridge, whether your kitchen light is on or off. These can all be considered pieces of data, and we represent pieces of data in code using data types. \r\n",
    "\r\n",
    "Similar to other programming languages, Java classifies different pieces of data with data types based on their value. For example, there's a data type for letters and symbols, and there are various data types for numbers. \r\n",
    "\r\n",
    "Ultimately, a data type provides a set of possible values, and if a piece of data is one of these values, it is classified as that specific type. Java separates its data types into two main categories that are then broken down further into more distinct data types. \r\n",
    "\r\n",
    "One of the categories is called **primitive data types** which consist of the most basic data types in the Java language. The most important primitive data types include `boolean`, `int`, `double`, and `char`. There are other primitive types that exist in Java, but these are the most foundational. \r\n",
    "\r\n",
    "The second category is called reference types, and we'll talk about reference types later. Diving deeper into these primitive types, we have: \r\n",
    "\r\n",
    "-   the `boolean` data type represents a true or false value. This means the data piece of whether the kitchen light is on or off could be represented as a `boolean` in code. It might have the value true, or it might have the value false, but it can never be both. It must be either true or false. \r\n",
    "\r\n",
    "-   In `int`, short for integer, represents a whole number. The number of siblings you have could be represented in code as an `int`. You could have zero siblings, three siblings, 10 siblings, any whole number amount of siblings. \r\n",
    "\r\n",
    "-   A `double` represents a decimal number. With a `double`, you can represent your scores, say 95.6, in Java. \r\n",
    "\r\n",
    "-   The last primitive type we'll talk about is a `char` which is short for character. A `char` represents a single letter or symbol. Some possible values for a `char` could be your first initial or last initial, your favorite letter, or the hashtag symbol. \r\n",
    "\r\n",
    "We classify these data types, `boolean`, `int`, `double`, `char`, as primitive types because they are the basis in foundation for all other data types within the Java programming language. Let's try using our primitive types in Java."
   ]
  }
 ],
 "metadata": {
  "kernelspec": {
   "display_name": "Python 3.9.0 64-bit",
   "name": "python390jvsc74a57bd063fd5069d213b44bf678585dea6b12cceca9941eaf7f819626cde1f2670de90d"
  },
  "language_info": {
   "name": "python",
   "version": ""
  },
  "metadata": {
   "interpreter": {
    "hash": "63fd5069d213b44bf678585dea6b12cceca9941eaf7f819626cde1f2670de90d"
   }
  },
  "orig_nbformat": 2
 },
 "nbformat": 4,
 "nbformat_minor": 2
}