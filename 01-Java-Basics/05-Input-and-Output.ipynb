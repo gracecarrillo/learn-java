{
 "cells": [
  {
   "cell_type": "markdown",
   "metadata": {},
   "source": [
    "# Input and output in Java\r\n",
    "\r\n",
    "So far, we've learned how to output information to the user using `System.out.println()`. We've created several variables and printed out their values to the user as well as concatenated their values to `String` literals. \r\n",
    "\r\n",
    "In this notebook, we'll look at how we can create a program that allows the user to input information affecting the program's output. Thinking back to our student program, we might need to update a student's `averageScore`. With some updates to the code, we can let the user dynamically change the value of a student's average score. \r\n",
    "\r\n",
    "In the previous notebook, we wrote a print statement that tells a given student their average score. Before having the user update their average score, we should ask the user what value they want to update the average score to and that's the print statement I've added in the code below. "
   ]
  },
  {
   "cell_type": "code",
   "execution_count": 1,
   "metadata": {},
   "outputs": [],
   "source": [
    "public class InputOutput {\r\n",
    "    public static void main(String[] args){\r\n",
    "        double averageScore = 85.5;\r\n",
    "        String studentFirstName = \"Molly\"; \r\n",
    "        String studentLastName = \"Huq\";\r\n",
    "\r\n",
    "        System.out.println(studentFirstName + \" \" +\r\n",
    "                studentLastName + \" has a Score of \" + averageScore);\r\n",
    "        \r\n",
    "        System.out.println(\"What do you want to update it to?\"); // Our new string\r\n",
    "    }\r\n",
    "}"
   ]
  },
  {
   "cell_type": "markdown",
   "metadata": {},
   "source": [
    "Next we need to get access to the user's input and update the value of the student `averageScore` variable. To do this, we can create a `Scanner` with `System.in` and save the `Scanner` in the variable labeled input. This is the opposite of the `System.out` we have been using to print to the console. \r\n",
    "\r\n",
    "The `Scanner` has some built in operations that will allow us to retrieve input from the user. This means we'll write `input = new Scanner (System.in)`. This creates a new `Scanner` that will scan `System.in` for the users input.\r\n",
    "\r\n",
    "We need to add a data type for our variable. The data type here is `Scanner`. There are lots of data types in Java, but for now you can think of the `Scanner` as a tool that has operations that allow us to get input. In order to use those operations, we have to create a `Scanner` first. We also need to `import java.util.Scanner` in order to use the `Scanner`. Think of it as a special data type that we need to import in order to use."
   ]
  },
  {
   "cell_type": "code",
   "execution_count": 4,
   "metadata": {},
   "outputs": [],
   "source": [
    "import java.util.Scanner;\r\n",
    "\r\n",
    "public class InputOutput {\r\n",
    "    public static void main(String[] args){\r\n",
    "        double averageScore = 85.5;\r\n",
    "        String studentFirstName = \"Molly\"; \r\n",
    "        String studentLastName = \"Huq\";\r\n",
    "\r\n",
    "        System.out.println(studentFirstName + \" \" +\r\n",
    "                studentLastName + \" has a Score of \" + averageScore);\r\n",
    "        \r\n",
    "        System.out.println(\"What do you want to update it to?\");\r\n",
    "\r\n",
    "        Scanner input = new Scanner(System.in); // Our new input variable\r\n",
    "    }\r\n",
    "}"
   ]
  },
  {
   "cell_type": "markdown",
   "metadata": {},
   "source": [
    "With the `Scanner` created. We can use the `Scanner`s `nextDouble` operation to get the next double or decimal value that the user enters in the console window. \r\n",
    "\r\n",
    "Similar to how we used the `chartAt` operation on `Strings`. We'll use the `nextDouble` operation on our input `Scanner`. So we'll write `input.nextDouble`, we'll want to save the value in our student `averageScore` variable, so we'll add `averageScore = ` to assign the user's inputed value to the student's `averageScore` variable. Since we've already introduced and defined the student `averageScore` variable before, we do not need to add the data type because Java already recognises this variable as a double from its initial definition and it can only store double values. \r\n",
    "\r\n",
    "Now we'll create a nice output String so the user can see that the student `averageScore` has been updated. \r\n",
    "\r\n",
    "Let's run the program."
   ]
  },
  {
   "cell_type": "code",
   "execution_count": 6,
   "metadata": {},
   "outputs": [],
   "source": [
    "import java.util.Scanner;\r\n",
    "\r\n",
    "public class InputOutput {\r\n",
    "    public static void main(String[] args){\r\n",
    "        double averageScore = 85.5;\r\n",
    "        String studentFirstName = \"Molly\"; \r\n",
    "        String studentLastName = \"Huq\";\r\n",
    "\r\n",
    "        System.out.println(studentFirstName + \" \" +\r\n",
    "                studentLastName + \" has a Score of \" + averageScore);\r\n",
    "        \r\n",
    "        System.out.println(\"What do you want to update it to?\");\r\n",
    "\r\n",
    "        Scanner input = new Scanner(System.in); // Our new input variable\r\n",
    "        averageScore = input.nextDouble(); // We add the user input to our averageScore variable\r\n",
    "\r\n",
    "        System.out.println(studentFirstName + \" \" +\r\n",
    "        studentLastName + \" now has a Score of \" + averageScore);\r\n",
    "    }\r\n",
    "}"
   ]
  },
  {
   "cell_type": "markdown",
   "metadata": {},
   "source": [
    "Molly Huq has an `averageScore` of `85.5`. \r\n",
    "\r\n",
    "`What do you want to update it to?`\r\n",
    "We'll do a `95.5`.\r\n",
    " \r\n",
    "Molly Huq now has a `averageScore` of `95.5`. \r\n",
    "\r\n",
    "We'll run it again, Molly Huq has a `averageScore` of `95.5` let's update it to `97.5` and we see that in the console. \r\n",
    "\r\n",
    "Now you might be thinking, wouldn't it be awesome if my program could automatically calculate the `averageScore` given a series of grades? As we go deeper into the fundamentals of Java, we'll be able to create more complicated programs like this. \r\n",
    "\r\n",
    "You also might be thinking, does this scale? No. \r\n",
    "\r\n",
    "Right now it only works for one student. For the way we have the program structured, we would have to execute this program and edit some of the source code for every student in the class. Also, nothing about the update is saved eternally. The update works for the programs single execution, but it does not save indefinitely. There are ways to make this program more scalable. But again, this section of the workshop is meant to be an introduction for how we can store simple data pieces in the Java programming language and reference them later in the program. \r\n",
    "\r\n",
    "We will be building more complicated programs in the other sections."
   ]
  }
 ],
 "metadata": {
  "kernelspec": {
   "display_name": "Java",
   "language": "java",
   "name": "java"
  },
  "language_info": {
   "name": "java",
   "version": ""
  },
  "orig_nbformat": 2
 },
 "nbformat": 4,
 "nbformat_minor": 2
}